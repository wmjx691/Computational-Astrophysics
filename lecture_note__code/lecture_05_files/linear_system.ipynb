{
 "cells": [
  {
   "cell_type": "code",
   "execution_count": 1,
   "metadata": {},
   "outputs": [
    {
     "name": "stdout",
     "output_type": "stream",
     "text": [
      "The history saving thread hit an unexpected error (DatabaseError('database disk image is malformed')).History will not be written to the database.\n"
     ]
    }
   ],
   "source": [
    "import time\n",
    "import matplotlib.pyplot as plt\n",
    "import numpy as np\n",
    "import scipy\n",
    "from numpy.linalg import inv\n",
    "from scipy import linalg\n",
    "%matplotlib inline"
   ]
  },
  {
   "cell_type": "markdown",
   "metadata": {},
   "source": [
    "# Linear System\n",
    "\n",
    "## Given matrix A and vector b, want to solve x for A x = b"
   ]
  },
  {
   "cell_type": "markdown",
   "metadata": {},
   "source": [
    "Naively, we could solve x by calculating the inverse of A. \n",
    "\n",
    "inv(A) A x = x = inv(A) b"
   ]
  },
  {
   "cell_type": "code",
   "execution_count": 2,
   "metadata": {},
   "outputs": [],
   "source": [
    "def naive_solve(a,b):\n",
    "    \"\"\"\n",
    "    Solve A x = b\n",
    "    \"\"\"\n",
    "    ainv = inv(a)\n",
    "    x    = np.dot(ainv,b)\n",
    "    return x"
   ]
  },
  {
   "cell_type": "markdown",
   "metadata": {},
   "source": [
    "Let's test this naive solve "
   ]
  },
  {
   "cell_type": "code",
   "execution_count": 3,
   "metadata": {},
   "outputs": [
    {
     "name": "stdout",
     "output_type": "stream",
     "text": [
      "[[7.38710653e-01 4.24418568e-01 6.93463577e-01 1.53693195e-01\n",
      "  8.95090694e-01 3.17842470e-04 5.79430705e-01 2.07495086e-01\n",
      "  2.87813101e-01 7.36322948e-01]\n",
      " [9.15189271e-01 2.11923368e-01 1.81653476e-01 7.37596331e-01\n",
      "  9.26862099e-01 2.38800285e-01 9.91900177e-01 8.62363386e-01\n",
      "  6.47425271e-01 3.25358262e-01]\n",
      " [1.93011006e-01 1.00786052e-01 7.49613932e-01 7.15619195e-01\n",
      "  1.34855325e-01 5.20869498e-01 5.06856376e-01 3.42039378e-01\n",
      "  8.96030583e-01 7.06031104e-01]\n",
      " [3.34039166e-01 7.55074743e-01 4.94170757e-01 2.98636716e-01\n",
      "  2.35938677e-01 8.22651190e-01 4.43811313e-01 5.95034837e-01\n",
      "  1.18745586e-01 7.98679412e-01]\n",
      " [6.57153021e-01 1.39953269e-01 8.96772813e-01 4.28598730e-01\n",
      "  6.89160101e-01 9.48439866e-01 5.59537492e-01 5.88043355e-01\n",
      "  2.02870458e-01 2.98442617e-01]\n",
      " [4.51113733e-01 2.07649902e-01 3.08385288e-01 3.32886266e-02\n",
      "  5.44144146e-01 9.18835952e-01 4.33349532e-01 4.37059826e-02\n",
      "  4.36875949e-01 9.19488226e-01]\n",
      " [7.99644784e-01 8.82784534e-01 6.87217611e-01 8.29745807e-01\n",
      "  2.61780455e-01 3.51786926e-01 3.42133956e-01 8.12450784e-02\n",
      "  5.80140492e-01 4.79625021e-01]\n",
      " [9.77687732e-01 1.54240452e-01 8.41802821e-01 7.57882504e-02\n",
      "  7.50122862e-01 3.62752429e-01 9.86609854e-01 2.73190620e-01\n",
      "  1.32568643e-01 6.94387877e-01]\n",
      " [5.38041922e-01 4.06212168e-01 6.23953951e-01 9.12788961e-01\n",
      "  7.45586256e-01 8.41991290e-01 8.57066861e-01 7.17546723e-01\n",
      "  6.86825158e-01 3.78416175e-01]\n",
      " [6.53016725e-02 4.57718875e-01 9.15973206e-01 9.02555029e-01\n",
      "  9.19906572e-01 8.64925717e-02 7.25457828e-01 5.33734686e-01\n",
      "  6.80504777e-01 9.60357798e-01]]\n"
     ]
    }
   ],
   "source": [
    "# create a random matrix A\n",
    "N = 10\n",
    "a = np.random.rand(N,N)\n",
    "print(a)"
   ]
  },
  {
   "cell_type": "code",
   "execution_count": 4,
   "metadata": {},
   "outputs": [],
   "source": [
    "# create a random vector b\n",
    "b = np.random.rand(N).T"
   ]
  },
  {
   "cell_type": "code",
   "execution_count": 5,
   "metadata": {},
   "outputs": [
    {
     "name": "stdout",
     "output_type": "stream",
     "text": [
      "[-1.04440801  2.14479007  1.48900583 -4.26738814  0.27235655  0.47334551\n",
      "  0.70389997  0.95589192  3.80753195 -2.39898031]\n"
     ]
    }
   ],
   "source": [
    "# use the naive_solve\n",
    "x = naive_solve(a,b)\n",
    "print(x)"
   ]
  },
  {
   "cell_type": "code",
   "execution_count": 6,
   "metadata": {},
   "outputs": [
    {
     "name": "stdout",
     "output_type": "stream",
     "text": [
      "The residual is  1.4432899320127035e-15\n"
     ]
    }
   ],
   "source": [
    "# check the solution by compute the residual\n",
    "residual = np.matmul(a,x) - b\n",
    "error = max(abs(residual))\n",
    "print(\"The residual is \", error)"
   ]
  },
  {
   "cell_type": "code",
   "execution_count": 7,
   "metadata": {},
   "outputs": [
    {
     "data": {
      "text/plain": [
       "<matplotlib.image.AxesImage at 0x7fa6cd033b50>"
      ]
     },
     "execution_count": 7,
     "metadata": {},
     "output_type": "execute_result"
    },
    {
     "data": {
      "image/png": "[encoded data removed]",
      "text/plain": [
       "<Figure size 432x288 with 1 Axes>"
      ]
     },
     "metadata": {
      "needs_background": "light"
     },
     "output_type": "display_data"
    }
   ],
   "source": [
    "# check ainv\n",
    "ainv = inv(a)\n",
    "plt.figure()\n",
    "plt.imshow(np.matmul(a,ainv))"
   ]
  },
  {
   "cell_type": "markdown",
   "metadata": {},
   "source": [
    "So far, it's good! We probably don't need to take this course (!?)"
   ]
  },
  {
   "cell_type": "markdown",
   "metadata": {},
   "source": [
    "### However!"
   ]
  },
  {
   "cell_type": "markdown",
   "metadata": {},
   "source": [
    "### If we treat scipy/numpy as black boxes, we might make huge mistake without notice."
   ]
  },
  {
   "cell_type": "markdown",
   "metadata": {},
   "source": [
    "# BAD example"
   ]
  },
  {
   "cell_type": "markdown",
   "metadata": {},
   "source": [
    "Consider a matrix\n",
    "\n",
    "```\n",
    "A  = [  1       1+c ]   \n",
    "     [  1-c        1]\n",
    "     \n",
    "     \n",
    "b  = [ 1 + c + c^2,  1].T\n",
    "     \n",
    "\n",
    "A x = b has the exact solution\n",
    "\n",
    "\n",
    "\n",
    "x = [ 1 , c].T\n",
    "     \n",
    "\n",
    "\n",
    "```"
   ]
  },
  {
   "cell_type": "code",
   "execution_count": 8,
   "metadata": {},
   "outputs": [],
   "source": [
    "c = 1.e-7\n",
    "A = np.array([\n",
    "            [1,1+c],\n",
    "            [1-c,1]\n",
    "            ])"
   ]
  },
  {
   "cell_type": "code",
   "execution_count": 9,
   "metadata": {},
   "outputs": [],
   "source": [
    "b = np.array([1+c*(1+c),1]).T"
   ]
  },
  {
   "cell_type": "code",
   "execution_count": 10,
   "metadata": {},
   "outputs": [
    {
     "name": "stdout",
     "output_type": "stream",
     "text": [
      "The solution is  [ 1.01041862 -0.01041852]\n"
     ]
    }
   ],
   "source": [
    "# Solve A_star x = B_star\n",
    "x = np.linalg.solve(A, b)\n",
    "print(\"The solution is \", x)"
   ]
  },
  {
   "cell_type": "code",
   "execution_count": 11,
   "metadata": {},
   "outputs": [
    {
     "name": "stdout",
     "output_type": "stream",
     "text": [
      "Relative Error =  [1.04186223e-02 1.04186213e+05]\n"
     ]
    }
   ],
   "source": [
    "exact_sol  = np.array([1, c])\n",
    "rel_error  = abs((x - exact_sol)/exact_sol)\n",
    "print(\"Relative Error = \", rel_error)\n"
   ]
  },
  {
   "cell_type": "code",
   "execution_count": 12,
   "metadata": {},
   "outputs": [
    {
     "name": "stdout",
     "output_type": "stream",
     "text": [
      "The condition number of A is  396185090406815.1\n"
     ]
    }
   ],
   "source": [
    "con = np.linalg.cond(A)\n",
    "print(\"The condition number of A is \", con)"
   ]
  },
  {
   "cell_type": "markdown",
   "metadata": {},
   "source": [
    "# A poor performance example"
   ]
  },
  {
   "cell_type": "code",
   "execution_count": 13,
   "metadata": {},
   "outputs": [],
   "source": [
    "N= 3000"
   ]
  },
  {
   "cell_type": "markdown",
   "metadata": {},
   "source": [
    "if the matrix is symmetry and postive defined"
   ]
  },
  {
   "cell_type": "code",
   "execution_count": 14,
   "metadata": {},
   "outputs": [],
   "source": [
    "# create a symmmetry and positive defined matrix\n",
    "a = np.random.rand(N,N)\n",
    "a_pd = np.matmul(a, a.T)\n",
    "a_symm = (a_pd + a_pd.T)/2"
   ]
  },
  {
   "cell_type": "code",
   "execution_count": 15,
   "metadata": {},
   "outputs": [],
   "source": [
    "b = np.random.rand(N)"
   ]
  },
  {
   "cell_type": "code",
   "execution_count": 16,
   "metadata": {},
   "outputs": [],
   "source": [
    "def naive_solve(a,b):\n",
    "    ainv = inv(a)\n",
    "    x    = np.matmul(ainv,b)\n",
    "    return x"
   ]
  },
  {
   "cell_type": "code",
   "execution_count": 17,
   "metadata": {},
   "outputs": [
    {
     "name": "stdout",
     "output_type": "stream",
     "text": [
      "3.25 s ± 26.8 ms per loop (mean ± std. dev. of 7 runs, 1 loop each)\n"
     ]
    }
   ],
   "source": [
    "%timeit naive_solve(a_symm,b)"
   ]
  },
  {
   "cell_type": "markdown",
   "metadata": {},
   "source": [
    "## If you have took this course"
   ]
  },
  {
   "cell_type": "code",
   "execution_count": 18,
   "metadata": {},
   "outputs": [],
   "source": [
    "def cholesky_solve(a,b):\n",
    "    K = scipy.linalg.cho_factor(a)\n",
    "    x =linalg.cho_solve(K,b)\n",
    "    return x"
   ]
  },
  {
   "cell_type": "code",
   "execution_count": 19,
   "metadata": {},
   "outputs": [
    {
     "name": "stdout",
     "output_type": "stream",
     "text": [
      "678 ms ± 8.86 ms per loop (mean ± std. dev. of 7 runs, 1 loop each)\n"
     ]
    }
   ],
   "source": [
    "%timeit cholesky_solve(a_symm,b)"
   ]
  },
  {
   "cell_type": "markdown",
   "metadata": {},
   "source": [
    "# LU Factorization\n",
    "In scipy, we have\n",
    "\n",
    "```\n",
    "scipy.linalg.lu()\n",
    "scipy.linalg.lu_factor()\n",
    "scipy.linalg.lu_solve()\n",
    "```"
   ]
  },
  {
   "cell_type": "code",
   "execution_count": null,
   "metadata": {},
   "outputs": [],
   "source": [
    "a = np.array([[1,2,2],[4,6,8],[4,8,10]])\n",
    "b = np.array([4,6,10]).T"
   ]
  },
  {
   "cell_type": "code",
   "execution_count": null,
   "metadata": {},
   "outputs": [],
   "source": [
    "print(a)"
   ]
  },
  {
   "cell_type": "code",
   "execution_count": null,
   "metadata": {},
   "outputs": [],
   "source": [
    "P, L, U = scipy.linalg.lu(a)"
   ]
  },
  {
   "cell_type": "code",
   "execution_count": null,
   "metadata": {},
   "outputs": [],
   "source": [
    "print(P)\n",
    "print(L)\n",
    "print(U)"
   ]
  },
  {
   "cell_type": "code",
   "execution_count": null,
   "metadata": {},
   "outputs": [],
   "source": [
    "# check A = PLU\n",
    "residual = np.matmul(P,np.matmul(L,U)) - a"
   ]
  },
  {
   "cell_type": "code",
   "execution_count": null,
   "metadata": {},
   "outputs": [],
   "source": [
    "print(residual)"
   ]
  },
  {
   "cell_type": "markdown",
   "metadata": {},
   "source": [
    "## Another way,"
   ]
  },
  {
   "cell_type": "code",
   "execution_count": null,
   "metadata": {},
   "outputs": [],
   "source": [
    "lu, piv = scipy.linalg.lu_factor(a)"
   ]
  },
  {
   "cell_type": "markdown",
   "metadata": {},
   "source": [
    "lu : Matrix containing U in its upper triangle, and L in its lower triangle. The unit diagonal elements of L are not stored.\n",
    "\n",
    "piv: Pivot indices representing the permutation matrix P: row i of matrix was interchanged with row piv[i]."
   ]
  },
  {
   "cell_type": "code",
   "execution_count": null,
   "metadata": {},
   "outputs": [],
   "source": [
    "print(lu)"
   ]
  },
  {
   "cell_type": "code",
   "execution_count": null,
   "metadata": {},
   "outputs": [],
   "source": [
    "x = scipy.linalg.lu_solve((lu,piv), b, trans=0, overwrite_b=False, check_finite=True)"
   ]
  },
  {
   "cell_type": "code",
   "execution_count": null,
   "metadata": {},
   "outputs": [],
   "source": [
    "print(x)"
   ]
  },
  {
   "cell_type": "code",
   "execution_count": null,
   "metadata": {},
   "outputs": [],
   "source": [
    "# check the solution\n",
    "print(np.matmul(a,x)-b)"
   ]
  },
  {
   "cell_type": "code",
   "execution_count": null,
   "metadata": {},
   "outputs": [],
   "source": [
    "# use two steps to get the solution\n",
    "def custom_lu(a,b):\n",
    "    lu, piv = scipy.linalg.lu_factor(a)\n",
    "    x = scipy.linalg.lu_solve((lu,piv), b, trans=0, overwrite_b=False, check_finite=True)\n",
    "    return x"
   ]
  },
  {
   "cell_type": "code",
   "execution_count": null,
   "metadata": {},
   "outputs": [],
   "source": [
    "x = custom_lu(a,b)\n",
    "print(\"The solution is \", x)"
   ]
  },
  {
   "cell_type": "code",
   "execution_count": null,
   "metadata": {},
   "outputs": [],
   "source": [
    "# we could also use one line solve\n",
    "x = np.linalg.solve(a,b)\n",
    "print(\"The solution is \", x)\n",
    "x = scipy.linalg.solve(a,b)\n",
    "print(\"The solution is \", x)"
   ]
  },
  {
   "cell_type": "code",
   "execution_count": null,
   "metadata": {},
   "outputs": [],
   "source": [
    "print(\"The solution is \", x)"
   ]
  },
  {
   "cell_type": "markdown",
   "metadata": {},
   "source": [
    "### Quesiton: Why we seperate the LU solver to two steps (lu_facotr and lu_solve)?¶"
   ]
  },
  {
   "cell_type": "code",
   "execution_count": null,
   "metadata": {},
   "outputs": [],
   "source": [
    "a = np.array([[2,0,-1],[5,1,0],[0,1,3]])"
   ]
  },
  {
   "cell_type": "code",
   "execution_count": null,
   "metadata": {},
   "outputs": [],
   "source": [
    "inv(a)"
   ]
  },
  {
   "cell_type": "code",
   "execution_count": null,
   "metadata": {},
   "outputs": [],
   "source": []
  }
 ],
 "metadata": {
  "kernelspec": {
   "display_name": "Python 3",
   "language": "python",
   "name": "python3"
  },
  "language_info": {
   "codemirror_mode": {
    "name": "ipython",
    "version": 3
   },
   "file_extension": ".py",
   "mimetype": "text/x-python",
   "name": "python",
   "nbconvert_exporter": "python",
   "pygments_lexer": "ipython3",
   "version": "3.7.6"
  }
 },
 "nbformat": 4,
 "nbformat_minor": 4
}
