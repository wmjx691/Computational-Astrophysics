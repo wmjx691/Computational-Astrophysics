{
 "cells": [
  {
   "cell_type": "code",
   "execution_count": 1,
   "metadata": {},
   "outputs": [
    {
     "name": "stdout",
     "output_type": "stream",
     "text": [
      "The history saving thread hit an unexpected error (DatabaseError('database disk image is malformed')).History will not be written to the database.\n"
     ]
    }
   ],
   "source": [
    "import numpy as np\n",
    "import matplotlib.pyplot as plt\n",
    "%matplotlib inline"
   ]
  },
  {
   "cell_type": "markdown",
   "metadata": {},
   "source": [
    "# Condsider a function $I(f) = \\int_0^1 \\exp(-x^2)  dx$"
   ]
  },
  {
   "cell_type": "code",
   "execution_count": 2,
   "metadata": {},
   "outputs": [],
   "source": [
    "def midpoint(my_func,a,b):\n",
    "    \"\"\"\n",
    "    Use midpoint method to calculate the area of my_func within [a,b]\n",
    "    [no iteration]\n",
    "    \n",
    "    inputs:\n",
    "        my_func : function to evaluate\n",
    "        a       : left  bound\n",
    "        b       : right bound (b>a)\n",
    "    \n",
    "    return:\n",
    "        area of my_func\n",
    "    \"\"\"\n",
    "    answer=(b-a)*my_func((a+b)/2)\n",
    "\n",
    "    return answer"
   ]
  },
  {
   "cell_type": "code",
   "execution_count": 3,
   "metadata": {},
   "outputs": [],
   "source": [
    "def trap(my_func,a,b):\n",
    "    \"\"\"\n",
    "    Use trapezoidal rule to calculate the area of my_func within [a,b]\n",
    "    [no iteration]\n",
    "    \n",
    "    inputs:\n",
    "        my_func : function to evaluate\n",
    "        a       : left  bound\n",
    "        b       : right bound (b>a)\n",
    "    \n",
    "    return:\n",
    "        area of my_func\n",
    "    \"\"\"\n",
    "    answer=(b-a)*(my_func(a)+my_func(b))/2\n",
    "    \n",
    "    return answer"
   ]
  },
  {
   "cell_type": "code",
   "execution_count": 4,
   "metadata": {},
   "outputs": [],
   "source": [
    "def simp(my_func,a,b):\n",
    "    \"\"\"\n",
    "    Use Simpson's rule to calculate the area of my_func within [a,b]\n",
    "    [no iteration]\n",
    "    \n",
    "    inputs:\n",
    "        my_func : function to evaluate\n",
    "        a       : left  bound\n",
    "        b       : right bound (b>a)\n",
    "    \n",
    "    return:\n",
    "        area of my_func\n",
    "    \"\"\"\n",
    "    answer=(b-a)/6*(my_func(a)+4*my_func((a+b)/2)+my_func(b))\n",
    "    \n",
    "    return answer"
   ]
  },
  {
   "cell_type": "markdown",
   "metadata": {},
   "source": [
    "### define my_func here,"
   ]
  },
  {
   "cell_type": "code",
   "execution_count": 5,
   "metadata": {},
   "outputs": [],
   "source": [
    "my_func = lambda x: np.exp(-x**2)\n",
    "circ    = lambda x: np.sqrt(1. - x**2)"
   ]
  },
  {
   "cell_type": "code",
   "execution_count": 6,
   "metadata": {},
   "outputs": [
    {
     "name": "stdout",
     "output_type": "stream",
     "text": [
      "3.1415929980246298\n"
     ]
    }
   ],
   "source": [
    "dx = 0.0001\n",
    "x1 = -1.\n",
    "x2 = x1+dx\n",
    "area = 0.0\n",
    "while (x2 <= 1.0):\n",
    "    dA = midpoint(circ,a=x1,b=x2)\n",
    "    area += dA\n",
    "    x1 += dx\n",
    "    x2 += dx\n",
    "print(2.0*area)"
   ]
  },
  {
   "cell_type": "code",
   "execution_count": 7,
   "metadata": {},
   "outputs": [
    {
     "name": "stdout",
     "output_type": "stream",
     "text": [
      "0.7788007830714049\n",
      "0.6839397205857212\n",
      "0.7471804289095104\n",
      "0.74682\n"
     ]
    }
   ],
   "source": [
    "print(midpoint(my_func,a=0,b=1))\n",
    "print(trap(my_func,a=0,b=1))\n",
    "print(simp(my_func,a=0,b=1))  \n",
    "print(0.74682)               # true solution"
   ]
  },
  {
   "cell_type": "code",
   "execution_count": 8,
   "metadata": {},
   "outputs": [
    {
     "name": "stdout",
     "output_type": "stream",
     "text": [
      "0.7788007830714049\n",
      "0.6839397205857212\n",
      "0.7471804289095104\n"
     ]
    }
   ],
   "source": [
    "print(midpoint(my_func,a=0,b=1))\n",
    "print(trap(my_func,a=0,b=1))\n",
    "print(simp(my_func,a=0,b=1)) "
   ]
  },
  {
   "cell_type": "markdown",
   "metadata": {},
   "source": [
    "# Adaptive Quadrature"
   ]
  },
  {
   "cell_type": "code",
   "execution_count": 50,
   "metadata": {},
   "outputs": [],
   "source": [
    "def adaptquad(my_func,a,b,tol=1.e-6):\n",
    "    \"\"\"\n",
    "    Use adpative quadrature method to calculate the area of my_func\n",
    "    \n",
    "    inputs:\n",
    "        my_func : function to evaluate\n",
    "        a       : left  bound\n",
    "        b       : right bound (b>a)\n",
    "        \n",
    "    return:\n",
    "        area of my_func\n",
    "    \n",
    "    \"\"\"\n",
    "    I1=midpoint(my_func,a,b)\n",
    "    I2=simp(my_func,a,b)\n",
    "    \n",
    "    m=(a+b)/2\n",
    "    \n",
    "    if (m<=a) or (m>=b):\n",
    "        print(\"Warning:tolerance may not met\")\n",
    "        return I2\n",
    "    \n",
    "    if (abs(I2-I1)<tol):\n",
    "        return I2\n",
    "    \n",
    "    else:\n",
    "        return(adaptquad(my_func,a,m,tol)+adaptquad(my_func,m,b,tol))\n",
    "    "
   ]
  },
  {
   "cell_type": "code",
   "execution_count": 51,
   "metadata": {},
   "outputs": [],
   "source": [
    "circ = lambda x: np.sqrt(1. - x**2)"
   ]
  },
  {
   "cell_type": "code",
   "execution_count": 52,
   "metadata": {},
   "outputs": [],
   "source": [
    "area = adaptquad(circ,-1,1,tol=1e-12)"
   ]
  },
  {
   "cell_type": "code",
   "execution_count": 53,
   "metadata": {},
   "outputs": [
    {
     "name": "stdout",
     "output_type": "stream",
     "text": [
      "3.1415926535888303\n"
     ]
    }
   ],
   "source": [
    "print(2.*area)"
   ]
  },
  {
   "cell_type": "code",
   "execution_count": null,
   "metadata": {},
   "outputs": [],
   "source": []
  },
  {
   "cell_type": "code",
   "execution_count": null,
   "metadata": {},
   "outputs": [],
   "source": []
  }
 ],
 "metadata": {
  "kernelspec": {
   "display_name": "Python 3",
   "language": "python",
   "name": "python3"
  },
  "language_info": {
   "codemirror_mode": {
    "name": "ipython",
    "version": 3
   },
   "file_extension": ".py",
   "mimetype": "text/x-python",
   "name": "python",
   "nbconvert_exporter": "python",
   "pygments_lexer": "ipython3",
   "version": "3.7.6"
  }
 },
 "nbformat": 4,
 "nbformat_minor": 4
}
