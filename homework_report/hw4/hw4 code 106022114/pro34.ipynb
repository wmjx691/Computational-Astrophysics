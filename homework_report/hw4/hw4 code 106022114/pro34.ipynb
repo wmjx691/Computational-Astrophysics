{
 "cells": [
  {
   "cell_type": "code",
   "execution_count": 1,
   "metadata": {},
   "outputs": [
    {
     "name": "stdout",
     "output_type": "stream",
     "text": [
      "The history saving thread hit an unexpected error (DatabaseError('database disk image is malformed')).History will not be written to the database.\n"
     ]
    }
   ],
   "source": [
    "from scipy.linalg import solve_banded,lu_factor\n",
    "import scipy\n",
    "import numpy as np"
   ]
  },
  {
   "cell_type": "code",
   "execution_count": 2,
   "metadata": {},
   "outputs": [],
   "source": [
    "N=100"
   ]
  },
  {
   "cell_type": "code",
   "execution_count": 3,
   "metadata": {},
   "outputs": [],
   "source": [
    "b=np.full(N, 1)"
   ]
  },
  {
   "cell_type": "code",
   "execution_count": 4,
   "metadata": {},
   "outputs": [],
   "source": [
    "def maxtrixA(N):\n",
    "    A=np.full((N,N),0)\n",
    "    a=np.array([1,-4,6,-4,1])\n",
    "    for i in np.arange(N-4):\n",
    "        for j in np.arange(5):\n",
    "            A[2+i][j+i]=a[j]\n",
    "\n",
    "    A[0][0]=9\n",
    "    A[0][1]=-4\n",
    "    A[0][2]=1\n",
    "    A[1][0]=-4\n",
    "    A[1][1]=6\n",
    "    A[1][2]=-4\n",
    "    A[1][3]=1\n",
    "\n",
    "    A[N-1][N-1]=1\n",
    "    A[N-1][N-2]=-2\n",
    "    A[N-1][N-3]=1\n",
    "    A[N-2][N-1]=-2\n",
    "    A[N-2][N-2]=5\n",
    "    A[N-2][N-3]=-4\n",
    "    A[N-2][N-4]=1\n",
    "    \n",
    "    return A"
   ]
  },
  {
   "cell_type": "code",
   "execution_count": 5,
   "metadata": {},
   "outputs": [],
   "source": [
    "A=maxtrixA(N)"
   ]
  },
  {
   "cell_type": "code",
   "execution_count": 6,
   "metadata": {},
   "outputs": [],
   "source": [
    "def solver_bandmatrix1(A,b,N):\n",
    "    ab=np.full((5,N), 0)\n",
    "    for i in np.arange(N):\n",
    "        if i+2<N:\n",
    "            ab[0][i+2]=A[i][i+2]\n",
    "            ab[4][i]=A[i+2][i]\n",
    "        if i+1<N:\n",
    "            ab[1][i+1]=A[i][i+1]\n",
    "            ab[3][i]=A[i+1][i]    \n",
    "        ab[2][i]=A[i][i]\n",
    "    \n",
    "    x = scipy.linalg.solve_banded((2, 2), ab, b)\n",
    "    \n",
    "    return x    "
   ]
  },
  {
   "cell_type": "code",
   "execution_count": 7,
   "metadata": {},
   "outputs": [],
   "source": [
    "def solver_bandmatrix2(A,b,N):\n",
    "    ab=np.full((5,N), 0)\n",
    "    for i in np.arange(N):\n",
    "        if i<N-2:\n",
    "            ab[0][i+2]=A[i][i+2]\n",
    "            ab[1][i+1]=A[i][i+1]\n",
    "            ab[2][i]=A[i][i]\n",
    "            ab[3][i]=A[i+1][i]\n",
    "            ab[4][i]=A[i+2][i]\n",
    "            continue\n",
    "        \n",
    "        if i==N-2:\n",
    "            ab[1][i+1]=A[i][i+1]\n",
    "            ab[2][i]=A[i][i]\n",
    "            ab[3][i]=A[i+1][i]\n",
    "            continue\n",
    "            \n",
    "        elif i==N-1:\n",
    "            ab[2][i]=A[i][i]\n",
    "            continue\n",
    "    x = scipy.linalg.solve_banded((2, 2), ab, b)\n",
    "    \n",
    "    return x "
   ]
  },
  {
   "cell_type": "code",
   "execution_count": 8,
   "metadata": {},
   "outputs": [],
   "source": [
    "def LU_decompositon(A,b):\n",
    "    lu, piv = scipy.linalg.lu_factor(A)\n",
    "    x = scipy.linalg.lu_solve((lu, piv), b)\n",
    "    \n",
    "    return x "
   ]
  },
  {
   "cell_type": "code",
   "execution_count": 9,
   "metadata": {},
   "outputs": [],
   "source": [
    "x1=solver_bandmatrix2(A,b,N)\n",
    "x2=LU_decompositon(A,b)"
   ]
  },
  {
   "cell_type": "code",
   "execution_count": 10,
   "metadata": {},
   "outputs": [
    {
     "data": {
      "text/plain": [
       "array([1.26250000e+03, 7.47500000e+03, 1.85385000e+04, 3.43550000e+04,\n",
       "       5.48275000e+04, 7.98600000e+04, 1.09357500e+05, 1.43226000e+05,\n",
       "       1.81372500e+05, 2.23705000e+05, 2.70132500e+05, 3.20565000e+05,\n",
       "       3.74913500e+05, 4.33090000e+05, 4.95007500e+05, 5.60580000e+05,\n",
       "       6.29722500e+05, 7.02351000e+05, 7.78382500e+05, 8.57735000e+05,\n",
       "       9.40327500e+05, 1.02608000e+06, 1.11491350e+06, 1.20675000e+06,\n",
       "       1.30151250e+06, 1.39912500e+06, 1.49951250e+06, 1.60260100e+06,\n",
       "       1.70831750e+06, 1.81659000e+06, 1.92734750e+06, 2.04052000e+06,\n",
       "       2.15603850e+06, 2.27383500e+06, 2.39384250e+06, 2.51599500e+06,\n",
       "       2.64022750e+06, 2.76647600e+06, 2.89467750e+06, 3.02477000e+06,\n",
       "       3.15669250e+06, 3.29038500e+06, 3.42578850e+06, 3.56284500e+06,\n",
       "       3.70149750e+06, 3.84169000e+06, 3.98336750e+06, 4.12647600e+06,\n",
       "       4.27096250e+06, 4.41677500e+06, 4.56386250e+06, 4.71217500e+06,\n",
       "       4.86166350e+06, 5.01228000e+06, 5.16397750e+06, 5.31671000e+06,\n",
       "       5.47043250e+06, 5.62510100e+06, 5.78067250e+06, 5.93710500e+06,\n",
       "       6.09435750e+06, 6.25239000e+06, 6.41116350e+06, 6.57064000e+06,\n",
       "       6.73078250e+06, 6.89155500e+06, 7.05292250e+06, 7.21485100e+06,\n",
       "       7.37730750e+06, 7.54026000e+06, 7.70367750e+06, 7.86753000e+06,\n",
       "       8.03178850e+06, 8.19642500e+06, 8.36141250e+06, 8.52672500e+06,\n",
       "       8.69233750e+06, 8.85822600e+06, 9.02436750e+06, 9.19074000e+06,\n",
       "       9.35732250e+06, 9.52409500e+06, 9.69103850e+06, 9.85813500e+06,\n",
       "       1.00253675e+07, 1.01927200e+07, 1.03601775e+07, 1.05277260e+07,\n",
       "       1.06953525e+07, 1.08630450e+07, 1.10307925e+07, 1.11985850e+07,\n",
       "       1.13664135e+07, 1.15342700e+07, 1.17021475e+07, 1.18700400e+07,\n",
       "       1.20379425e+07, 1.22058510e+07, 1.23737625e+07, 1.25416750e+07])"
      ]
     },
     "execution_count": 10,
     "metadata": {},
     "output_type": "execute_result"
    }
   ],
   "source": [
    "x1"
   ]
  },
  {
   "cell_type": "code",
   "execution_count": 11,
   "metadata": {},
   "outputs": [
    {
     "data": {
      "text/plain": [
       "array([1.26250000e+03, 7.47500000e+03, 1.85385000e+04, 3.43550000e+04,\n",
       "       5.48275000e+04, 7.98600000e+04, 1.09357500e+05, 1.43226000e+05,\n",
       "       1.81372500e+05, 2.23705000e+05, 2.70132500e+05, 3.20565000e+05,\n",
       "       3.74913500e+05, 4.33090000e+05, 4.95007500e+05, 5.60580000e+05,\n",
       "       6.29722500e+05, 7.02351000e+05, 7.78382500e+05, 8.57735000e+05,\n",
       "       9.40327500e+05, 1.02608000e+06, 1.11491350e+06, 1.20675000e+06,\n",
       "       1.30151250e+06, 1.39912500e+06, 1.49951250e+06, 1.60260100e+06,\n",
       "       1.70831750e+06, 1.81659000e+06, 1.92734750e+06, 2.04052000e+06,\n",
       "       2.15603850e+06, 2.27383500e+06, 2.39384250e+06, 2.51599500e+06,\n",
       "       2.64022750e+06, 2.76647600e+06, 2.89467750e+06, 3.02477000e+06,\n",
       "       3.15669250e+06, 3.29038500e+06, 3.42578850e+06, 3.56284500e+06,\n",
       "       3.70149750e+06, 3.84169000e+06, 3.98336750e+06, 4.12647600e+06,\n",
       "       4.27096250e+06, 4.41677500e+06, 4.56386250e+06, 4.71217500e+06,\n",
       "       4.86166350e+06, 5.01228000e+06, 5.16397750e+06, 5.31671000e+06,\n",
       "       5.47043250e+06, 5.62510100e+06, 5.78067250e+06, 5.93710500e+06,\n",
       "       6.09435750e+06, 6.25239000e+06, 6.41116350e+06, 6.57064000e+06,\n",
       "       6.73078250e+06, 6.89155500e+06, 7.05292250e+06, 7.21485100e+06,\n",
       "       7.37730750e+06, 7.54026000e+06, 7.70367750e+06, 7.86753000e+06,\n",
       "       8.03178850e+06, 8.19642500e+06, 8.36141250e+06, 8.52672500e+06,\n",
       "       8.69233750e+06, 8.85822600e+06, 9.02436750e+06, 9.19074000e+06,\n",
       "       9.35732250e+06, 9.52409500e+06, 9.69103850e+06, 9.85813500e+06,\n",
       "       1.00253675e+07, 1.01927200e+07, 1.03601775e+07, 1.05277260e+07,\n",
       "       1.06953525e+07, 1.08630450e+07, 1.10307925e+07, 1.11985850e+07,\n",
       "       1.13664135e+07, 1.15342700e+07, 1.17021475e+07, 1.18700400e+07,\n",
       "       1.20379425e+07, 1.22058510e+07, 1.23737625e+07, 1.25416750e+07])"
      ]
     },
     "execution_count": 11,
     "metadata": {},
     "output_type": "execute_result"
    }
   ],
   "source": [
    "x2"
   ]
  },
  {
   "cell_type": "code",
   "execution_count": 12,
   "metadata": {},
   "outputs": [
    {
     "name": "stdout",
     "output_type": "stream",
     "text": [
      "1.642692950554192e-07\n",
      "1.5647674445062876e-07\n"
     ]
    }
   ],
   "source": [
    "a1=np.dot(A, x1)\n",
    "a2=np.dot(A, x2)\n",
    "\n",
    "e1=np.abs(a1-1)\n",
    "e2=np.abs(a2-1)\n",
    "\n",
    "accurate11=e1.sum()\n",
    "accurate22=e2.sum()\n",
    "\n",
    "print(accurate11)\n",
    "print(accurate22)"
   ]
  },
  {
   "cell_type": "code",
   "execution_count": 13,
   "metadata": {},
   "outputs": [
    {
     "data": {
      "text/plain": [
       "array([False, False, False, False, False, False, False, False, False,\n",
       "       False, False, False, False, False, False, False, False, False,\n",
       "       False, False, False, False, False, False, False, False, False,\n",
       "       False, False, False, False, False, False, False, False, False,\n",
       "       False, False, False, False, False, False, False, False, False,\n",
       "       False, False, False, False, False, False, False, False, False,\n",
       "       False, False, False, False, False, False, False, False, False,\n",
       "       False, False, False, False, False, False, False, False, False,\n",
       "       False, False, False, False, False, False, False, False, False,\n",
       "       False, False, False, False, False, False, False, False, False,\n",
       "       False, False, False, False, False, False, False, False, False,\n",
       "       False])"
      ]
     },
     "execution_count": 13,
     "metadata": {},
     "output_type": "execute_result"
    }
   ],
   "source": [
    "x1==x2\n"
   ]
  },
  {
   "cell_type": "code",
   "execution_count": 58,
   "metadata": {},
   "outputs": [
    {
     "name": "stdout",
     "output_type": "stream",
     "text": [
      "659 µs ± 87.8 µs per loop (mean ± std. dev. of 7 runs, 1000 loops each)\n"
     ]
    }
   ],
   "source": [
    "%timeit solver_bandmatrix1(A,b,N)"
   ]
  },
  {
   "cell_type": "code",
   "execution_count": 59,
   "metadata": {},
   "outputs": [
    {
     "name": "stdout",
     "output_type": "stream",
     "text": [
      "575 µs ± 44.1 µs per loop (mean ± std. dev. of 7 runs, 1000 loops each)\n"
     ]
    }
   ],
   "source": [
    "%timeit solver_bandmatrix2(A,b,N)"
   ]
  },
  {
   "cell_type": "code",
   "execution_count": 30,
   "metadata": {},
   "outputs": [
    {
     "name": "stdout",
     "output_type": "stream",
     "text": [
      "200 µs ± 3.11 µs per loop (mean ± std. dev. of 7 runs, 10000 loops each)\n"
     ]
    }
   ],
   "source": [
    "%timeit LU_decompositon(A,b)"
   ]
  },
  {
   "cell_type": "code",
   "execution_count": null,
   "metadata": {},
   "outputs": [],
   "source": []
  },
  {
   "cell_type": "code",
   "execution_count": 14,
   "metadata": {},
   "outputs": [],
   "source": [
    "def matrixR(N):\n",
    "    R=np.full((N,N),0)\n",
    "    r=np.array([1,-2,1])\n",
    "    for i in np.arange(N-3):\n",
    "        for j in np.arange(3):\n",
    "            R[1+i][j+i+1]=r[j]\n",
    "\n",
    "    R[0][0]=2\n",
    "    R[0][1]=-2\n",
    "    R[0][2]=1\n",
    "\n",
    "    R[N-1][N-1]=1\n",
    "    R[N-2][N-1]=-2\n",
    "    R[N-2][N-2]=1\n",
    "    \n",
    "    return R"
   ]
  },
  {
   "cell_type": "code",
   "execution_count": 15,
   "metadata": {},
   "outputs": [],
   "source": [
    "R=matrixR(N)"
   ]
  },
  {
   "cell_type": "code",
   "execution_count": 16,
   "metadata": {},
   "outputs": [],
   "source": [
    "RT=R.transpose()"
   ]
  },
  {
   "cell_type": "code",
   "execution_count": 17,
   "metadata": {},
   "outputs": [
    {
     "name": "stdout",
     "output_type": "stream",
     "text": [
      "True\n"
     ]
    }
   ],
   "source": [
    "A4=R.dot(RT)\n",
    "print(np.array_equal(A4,A))"
   ]
  },
  {
   "cell_type": "code",
   "execution_count": null,
   "metadata": {},
   "outputs": [],
   "source": []
  },
  {
   "cell_type": "raw",
   "metadata": {},
   "source": [
    "Let n=1000之後"
   ]
  },
  {
   "cell_type": "code",
   "execution_count": 104,
   "metadata": {},
   "outputs": [],
   "source": [
    "N=1000"
   ]
  },
  {
   "cell_type": "code",
   "execution_count": 105,
   "metadata": {},
   "outputs": [],
   "source": [
    "b=np.full(N, 1)\n",
    "\n",
    "A=maxtrixA(N)\n",
    "R=matrixR(N)\n",
    "RT=R.transpose()"
   ]
  },
  {
   "cell_type": "code",
   "execution_count": 106,
   "metadata": {},
   "outputs": [],
   "source": [
    "def UL_factorization(U,L,b,N):\n",
    "    y=np.full(N, 0)\n",
    "    x=np.full(N, 0)\n",
    "    for j in range(N-1,-1,-1):\n",
    "        if ( U[j][j] == 0 ): break\n",
    "\n",
    "        y[j] = b[j]/U[j][j]\n",
    "\n",
    "        for i in range(j):\n",
    "            b[i]=b[i]-U[i][j]*y[j]\n",
    "    \n",
    "    for j in range(N):\n",
    "        if ( L[j][j] == 0 ): break\n",
    "\n",
    "        x[j] = y[j]/L[j,j]\n",
    "\n",
    "        for i in range(j,N):\n",
    "            y[i]=y[i]-L[i][j]*x[j]\n",
    "            \n",
    "    return x"
   ]
  },
  {
   "cell_type": "code",
   "execution_count": 107,
   "metadata": {},
   "outputs": [],
   "source": [
    "def cho_factorization(A,b):\n",
    "    c, low = scipy.linalg.cho_factor(A)\n",
    "    x = scipy.linalg.cho_solve((c, low), b)\n",
    "    return x"
   ]
  },
  {
   "cell_type": "code",
   "execution_count": 108,
   "metadata": {},
   "outputs": [],
   "source": [
    "X1=UL_factorization(R,RT,b,N)\n",
    "b=np.full(N, 1)\n",
    "X2=cho_factorization(A,b)\n",
    "b=np.full(N, 1)\n",
    "X3=solver_bandmatrix2(A,b,N)"
   ]
  },
  {
   "cell_type": "code",
   "execution_count": 109,
   "metadata": {},
   "outputs": [],
   "source": [
    "acc1=np.dot(A, X1)\n",
    "acc2=np.dot(A, X2)\n",
    "acc3=np.dot(A, X3)"
   ]
  },
  {
   "cell_type": "code",
   "execution_count": 111,
   "metadata": {},
   "outputs": [],
   "source": [
    "error1=np.abs(acc1-1)\n",
    "error2=np.abs(acc2-1)\n",
    "error3=np.abs(acc3-1)"
   ]
  },
  {
   "cell_type": "code",
   "execution_count": 112,
   "metadata": {},
   "outputs": [],
   "source": [
    "accurate1=error1.sum()\n",
    "accurate2=error2.sum()\n",
    "accurate3=error3.sum()"
   ]
  },
  {
   "cell_type": "code",
   "execution_count": 117,
   "metadata": {},
   "outputs": [
    {
     "name": "stdout",
     "output_type": "stream",
     "text": [
      "The error of using UL_factorization: 0.000000\n",
      "The error of using cho_factorization: 0.019947\n",
      "The error of using solver_bandmatrix2: 0.015274\n"
     ]
    }
   ],
   "source": [
    "print (\"The error of using UL_factorization: %f\" %accurate1)\n",
    "print (\"The error of using cho_factorization: %f\" %accurate2)\n",
    "print (\"The error of using solver_bandmatrix2: %f\" %accurate3)"
   ]
  },
  {
   "cell_type": "code",
   "execution_count": 114,
   "metadata": {},
   "outputs": [
    {
     "name": "stderr",
     "output_type": "stream",
     "text": [
      "/home/kevinyu/miniconda3/lib/python3.7/site-packages/ipykernel_launcher.py:18: RuntimeWarning: overflow encountered in long_scalars\n",
      "/home/kevinyu/miniconda3/lib/python3.7/site-packages/ipykernel_launcher.py:10: RuntimeWarning: overflow encountered in long_scalars\n",
      "  # Remove the CWD from sys.path while we load stuff.\n"
     ]
    },
    {
     "name": "stdout",
     "output_type": "stream",
     "text": [
      "802 ms ± 61.7 ms per loop (mean ± std. dev. of 7 runs, 1 loop each)\n"
     ]
    }
   ],
   "source": [
    "%timeit UL_factorization(R,RT,b,N)"
   ]
  },
  {
   "cell_type": "code",
   "execution_count": 115,
   "metadata": {},
   "outputs": [
    {
     "name": "stdout",
     "output_type": "stream",
     "text": [
      "10.5 ms ± 536 µs per loop (mean ± std. dev. of 7 runs, 100 loops each)\n"
     ]
    }
   ],
   "source": [
    "%timeit cho_factorization(A,b)"
   ]
  },
  {
   "cell_type": "code",
   "execution_count": 116,
   "metadata": {},
   "outputs": [
    {
     "name": "stdout",
     "output_type": "stream",
     "text": [
      "4.74 ms ± 164 µs per loop (mean ± std. dev. of 7 runs, 100 loops each)\n"
     ]
    }
   ],
   "source": [
    "%timeit solver_bandmatrix2(A,b,N)"
   ]
  },
  {
   "cell_type": "code",
   "execution_count": null,
   "metadata": {},
   "outputs": [],
   "source": [
    "np.linalg.cond(A)"
   ]
  },
  {
   "cell_type": "code",
   "execution_count": null,
   "metadata": {},
   "outputs": [],
   "source": []
  },
  {
   "cell_type": "code",
   "execution_count": null,
   "metadata": {},
   "outputs": [],
   "source": []
  },
  {
   "cell_type": "code",
   "execution_count": null,
   "metadata": {},
   "outputs": [],
   "source": []
  },
  {
   "cell_type": "code",
   "execution_count": null,
   "metadata": {},
   "outputs": [],
   "source": []
  },
  {
   "cell_type": "code",
   "execution_count": null,
   "metadata": {},
   "outputs": [],
   "source": []
  },
  {
   "cell_type": "raw",
   "metadata": {},
   "source": [
    "A=np.full((N,N),0)\n",
    "a=np.array([1,-4,6,-4,1])\n",
    "for i in np.arange(N-4):\n",
    "    for j in np.arange(5):\n",
    "        A[2+i][j+i]=a[j]\n",
    "    \n",
    "A[0][0]=9\n",
    "A[0][1]=-4\n",
    "A[0][2]=1\n",
    "A[1][0]=-4\n",
    "A[1][1]=6\n",
    "A[1][2]=-4\n",
    "A[1][3]=1\n",
    "\n",
    "A[99][99]=1\n",
    "A[99][98]=-2\n",
    "A[99][97]=1\n",
    "A[98][99]=-2\n",
    "A[98][98]=5\n",
    "A[98][97]=-4\n",
    "A[98][96]=1"
   ]
  }
 ],
 "metadata": {
  "kernelspec": {
   "display_name": "Python 3",
   "language": "python",
   "name": "python3"
  },
  "language_info": {
   "codemirror_mode": {
    "name": "ipython",
    "version": 3
   },
   "file_extension": ".py",
   "mimetype": "text/x-python",
   "name": "python",
   "nbconvert_exporter": "python",
   "pygments_lexer": "ipython3",
   "version": "3.7.6"
  }
 },
 "nbformat": 4,
 "nbformat_minor": 4
}
