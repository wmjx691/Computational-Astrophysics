{
 "cells": [
  {
   "cell_type": "markdown",
   "metadata": {},
   "source": [
    "https://docs.astropy.org/en/stable/time/index.html"
   ]
  },
  {
   "cell_type": "code",
   "execution_count": 167,
   "metadata": {},
   "outputs": [],
   "source": [
    "from astropy.time import Time\n",
    "t        = Time(\"2021-06-10 12:00\")\n",
    "t_launch = Time(\"1977-08-20 12:00\")\n",
    "t_arrive = Time(\"1987-08-20 12:00\")"
   ]
  },
  {
   "cell_type": "code",
   "execution_count": 168,
   "metadata": {},
   "outputs": [
    {
     "data": {
      "text/plain": [
       "<Time object: scale='utc' format='iso' value=2021-06-10 12:00:00.000>"
      ]
     },
     "execution_count": 168,
     "metadata": {},
     "output_type": "execute_result"
    }
   ],
   "source": [
    "t"
   ]
  },
  {
   "cell_type": "code",
   "execution_count": 169,
   "metadata": {},
   "outputs": [
    {
     "data": {
      "text/plain": [
       "'2021-06-10 12:00:00.000'"
      ]
     },
     "execution_count": 169,
     "metadata": {},
     "output_type": "execute_result"
    }
   ],
   "source": [
    "t.value"
   ]
  },
  {
   "cell_type": "code",
   "execution_count": 170,
   "metadata": {},
   "outputs": [
    {
     "data": {
      "text/plain": [
       "'2021-06-10'"
      ]
     },
     "execution_count": 170,
     "metadata": {},
     "output_type": "execute_result"
    }
   ],
   "source": [
    "# subfnt :　date_hms, date_hm, date\n",
    "t.to_value('iso', subfmt='date')"
   ]
  },
  {
   "cell_type": "code",
   "execution_count": 171,
   "metadata": {},
   "outputs": [
    {
     "data": {
      "text/plain": [
       "2459376.0"
      ]
     },
     "execution_count": 171,
     "metadata": {},
     "output_type": "execute_result"
    }
   ],
   "source": [
    "#傳換成天為單位的時間\n",
    "t.jd"
   ]
  },
  {
   "cell_type": "code",
   "execution_count": 172,
   "metadata": {},
   "outputs": [],
   "source": [
    "time_duration = np.arange(t_launch.jd,t_arrive.jd+1,1)\n",
    "time_test = np.arange(t_launch.jd,t_launch.jd+365,1)"
   ]
  },
  {
   "cell_type": "markdown",
   "metadata": {},
   "source": [
    "https://pypi.org/project/jplephem/"
   ]
  },
  {
   "cell_type": "code",
   "execution_count": 173,
   "metadata": {},
   "outputs": [
    {
     "name": "stdout",
     "output_type": "stream",
     "text": [
      "File type DAF/SPK and format LTL-IEEE with 15 segments:\n",
      "2414864.50..2471184.50  Solar System Barycenter (0) -> Mercury Barycenter (1)\n",
      "2414864.50..2471184.50  Solar System Barycenter (0) -> Venus Barycenter (2)\n",
      "2414864.50..2471184.50  Solar System Barycenter (0) -> Earth Barycenter (3)\n",
      "2414864.50..2471184.50  Solar System Barycenter (0) -> Mars Barycenter (4)\n",
      "2414864.50..2471184.50  Solar System Barycenter (0) -> Jupiter Barycenter (5)\n",
      "2414864.50..2471184.50  Solar System Barycenter (0) -> Saturn Barycenter (6)\n",
      "2414864.50..2471184.50  Solar System Barycenter (0) -> Uranus Barycenter (7)\n",
      "2414864.50..2471184.50  Solar System Barycenter (0) -> Neptune Barycenter (8)\n",
      "2414864.50..2471184.50  Solar System Barycenter (0) -> Pluto Barycenter (9)\n",
      "2414864.50..2471184.50  Solar System Barycenter (0) -> Sun (10)\n",
      "2414864.50..2471184.50  Earth Barycenter (3) -> Moon (301)\n",
      "2414864.50..2471184.50  Earth Barycenter (3) -> Earth (399)\n",
      "2414864.50..2471184.50  Mercury Barycenter (1) -> Mercury (199)\n",
      "2414864.50..2471184.50  Venus Barycenter (2) -> Venus (299)\n",
      "2414864.50..2471184.50  Mars Barycenter (4) -> Mars (499)\n"
     ]
    }
   ],
   "source": [
    "from jplephem.spk import SPK\n",
    "kernel = SPK.open('de421.bsp')\n",
    "print(kernel)"
   ]
  },
  {
   "cell_type": "code",
   "execution_count": 174,
   "metadata": {},
   "outputs": [],
   "source": [
    "import numpy as np\n",
    "np.set_printoptions(precision=3)\n",
    "#postion 單位是km"
   ]
  },
  {
   "cell_type": "code",
   "execution_count": 175,
   "metadata": {},
   "outputs": [
    {
     "name": "stdout",
     "output_type": "stream",
     "text": [
      "[[ 0.857  0.866  0.874 ...  0.83   0.839  0.848]\n",
      " [-0.5   -0.487 -0.474 ... -0.542 -0.529 -0.516]\n",
      " [-0.217 -0.211 -0.205 ... -0.235 -0.23  -0.224]]\n"
     ]
    }
   ],
   "source": [
    "#以太陽\"0\"為原點的地球\"3\"[0,3]\n",
    "position = kernel[0,3].compute(time_test)\n",
    "position=position/149597871\n",
    "print(position)"
   ]
  },
  {
   "cell_type": "code",
   "execution_count": 186,
   "metadata": {},
   "outputs": [
    {
     "data": {
      "text/plain": [
       "0.857059549062007"
      ]
     },
     "execution_count": 186,
     "metadata": {},
     "output_type": "execute_result"
    }
   ],
   "source": [
    "position[0][0]"
   ]
  },
  {
   "cell_type": "code",
   "execution_count": null,
   "metadata": {},
   "outputs": [
    {
     "data": {
      "image/png": "[encoded data removed]",
      "text/plain": [
       "<Figure size 700x600 with 1 Axes>"
      ]
     },
     "metadata": {
      "needs_background": "light"
     },
     "output_type": "display_data"
    }
   ],
   "source": [
    "import numpy as np\n",
    "import matplotlib.pyplot as plt\n",
    "import matplotlib.animation as animation\n",
    "\n",
    "\"\"\"\n",
    " 1.參數設定\n",
    "\"\"\"\n",
    "\n",
    "#動畫格數\n",
    "N=365\n",
    "\n",
    "\"\"\"\n",
    " 2.繪圖\n",
    "\"\"\"\n",
    "fig = plt.figure(figsize=(7, 6), dpi=100)\n",
    "ax = fig.gca()\n",
    "line, = ax.plot(position[0][:], position[1][:], color='blue', linestyle='-', linewidth=3)\n",
    "dot, = ax.plot([], [], color='red', marker='o', markersize=10, markeredgecolor='black', linestyle='')\n",
    "ax.set_xlabel('x', fontsize=14)\n",
    "ax.set_ylabel('y', fontsize=14)\n",
    "\n",
    "def update(i):\n",
    "    dot.set_data(position[0][i], position[1][i])\n",
    "    return dot,\n",
    "\n",
    "def init():\n",
    "    dot.set_data(position[0][0], position[1][0])\n",
    "    return dot,\n",
    "\n",
    "ani = animation.FuncAnimation(fig=fig, func=update, frames=N, init_func=init, interval=1000/N, blit=False, repeat=True)\n",
    "plt.show()\n",
    "ani.save('MovingPointMatplotlib.gif', writer='imagemagick', fps=1/0.04)"
   ]
  },
  {
   "cell_type": "code",
   "execution_count": null,
   "metadata": {},
   "outputs": [],
   "source": []
  },
  {
   "cell_type": "code",
   "execution_count": 124,
   "metadata": {},
   "outputs": [
    {
     "name": "stdout",
     "output_type": "stream",
     "text": [
      "[[-1.104e+08 -1.121e+08 -1.138e+08 -1.154e+08]\n",
      " [ 8.931e+07  8.751e+07  8.569e+07  8.384e+07]\n",
      " [ 3.869e+07  3.791e+07  3.712e+07  3.632e+07]]\n"
     ]
    }
   ],
   "source": [
    "jd = np.array([2457061.5, 2457062.5, 2457063.5, 2457064.5])\n",
    "position = kernel[0,3].compute(jd)\n",
    "print(position)"
   ]
  },
  {
   "cell_type": "code",
   "execution_count": null,
   "metadata": {},
   "outputs": [],
   "source": []
  },
  {
   "cell_type": "code",
   "execution_count": null,
   "metadata": {},
   "outputs": [],
   "source": []
  },
  {
   "cell_type": "code",
   "execution_count": null,
   "metadata": {},
   "outputs": [],
   "source": []
  },
  {
   "cell_type": "code",
   "execution_count": null,
   "metadata": {},
   "outputs": [],
   "source": []
  },
  {
   "cell_type": "code",
   "execution_count": null,
   "metadata": {},
   "outputs": [],
   "source": []
  },
  {
   "cell_type": "markdown",
   "metadata": {},
   "source": [
    "https://docs.astropy.org/en/stable/coordinates/solarsystem.html"
   ]
  },
  {
   "cell_type": "code",
   "execution_count": 99,
   "metadata": {},
   "outputs": [
    {
     "data": {
      "text/plain": [
       "<SkyCoord (GCRS: obstime=2014-09-22 23:22:00.000, obsgeoloc=(3949481.6923192, -550931.90668394, 4961151.73597576) m, obsgeovel=(40.15954083, 287.47876681, -0.04597885) m / s): (ra, dec, distance) in (deg, deg, AU)\n",
       "    (136.91116209, 17.02935409, 5.94386022)>"
      ]
     },
     "execution_count": 99,
     "metadata": {},
     "output_type": "execute_result"
    }
   ],
   "source": [
    "from astropy.coordinates import solar_system_ephemeris, EarthLocation\n",
    "from astropy.coordinates import get_body_barycentric, get_body, get_moon\n",
    "\n",
    "loc = EarthLocation.of_site('greenwich') \n",
    "with solar_system_ephemeris.set('builtin'):\n",
    "    jup = get_body('jupiter', t, loc) \n",
    "jup  "
   ]
  },
  {
   "cell_type": "code",
   "execution_count": null,
   "metadata": {},
   "outputs": [],
   "source": []
  },
  {
   "cell_type": "code",
   "execution_count": 60,
   "metadata": {},
   "outputs": [
    {
     "data": {
      "text/plain": [
       "<ScienceState solar_system_ephemeris: 'de432s'>"
      ]
     },
     "execution_count": 60,
     "metadata": {},
     "output_type": "execute_result"
    }
   ],
   "source": [
    "solar_system_ephemeris.set('de432s') "
   ]
  },
  {
   "cell_type": "code",
   "execution_count": 61,
   "metadata": {},
   "outputs": [
    {
     "data": {
      "text/plain": [
       "<SkyCoord (GCRS: obstime=2014-09-22 23:22:00.000, obsgeoloc=(3949481.6923049, -550931.9066788, 4961151.73597586) m, obsgeovel=(40.15954083, 287.47871186, -0.04597878) m / s): (ra, dec, distance) in (deg, deg, km)\n",
       "    (136.90234802, 17.03160667, 8.89196021e+08)>"
      ]
     },
     "execution_count": 61,
     "metadata": {},
     "output_type": "execute_result"
    }
   ],
   "source": [
    "get_body('jupiter', t, loc) "
   ]
  },
  {
   "cell_type": "code",
   "execution_count": 70,
   "metadata": {},
   "outputs": [
    {
     "data": {
      "text/plain": [
       "<SkyCoord (GCRS: obstime=2014-09-22 23:22:00.000, obsgeoloc=(3949481.6923192, -550931.90668394, 4961151.73597576) m, obsgeovel=(40.15954083, 287.47876681, -0.04597885) m / s): (ra, dec, distance) in (deg, deg, AU)\n",
       "    (172.05047643, -51.20602058, 4.25483071e-05)>"
      ]
     },
     "execution_count": 70,
     "metadata": {},
     "output_type": "execute_result"
    }
   ],
   "source": [
    "get_body('earth', t, loc) "
   ]
  },
  {
   "cell_type": "code",
   "execution_count": 63,
   "metadata": {},
   "outputs": [
    {
     "data": {
      "text/plain": [
       "<CartesianRepresentation (x, y, z) in km\n",
       "    (1.50107535e+08, -866789.11996806, -418963.55218447)>"
      ]
     },
     "execution_count": 63,
     "metadata": {},
     "output_type": "execute_result"
    }
   ],
   "source": [
    "get_body_barycentric('moon', t) "
   ]
  },
  {
   "cell_type": "code",
   "execution_count": 65,
   "metadata": {},
   "outputs": [
    {
     "data": {
      "text/plain": [
       "('sun',\n",
       " 'mercury',\n",
       " 'venus',\n",
       " 'earth-moon-barycenter',\n",
       " 'earth',\n",
       " 'moon',\n",
       " 'mars',\n",
       " 'jupiter',\n",
       " 'saturn',\n",
       " 'uranus',\n",
       " 'neptune',\n",
       " 'pluto')"
      ]
     },
     "execution_count": 65,
     "metadata": {},
     "output_type": "execute_result"
    }
   ],
   "source": [
    "solar_system_ephemeris.bodies "
   ]
  },
  {
   "cell_type": "code",
   "execution_count": 66,
   "metadata": {},
   "outputs": [
    {
     "data": {
      "text/plain": [
       "<ScienceState solar_system_ephemeris: 'builtin'>"
      ]
     },
     "execution_count": 66,
     "metadata": {},
     "output_type": "execute_result"
    }
   ],
   "source": [
    "solar_system_ephemeris.set('builtin')"
   ]
  },
  {
   "cell_type": "code",
   "execution_count": 67,
   "metadata": {},
   "outputs": [
    {
     "data": {
      "text/plain": [
       "('earth',\n",
       " 'sun',\n",
       " 'moon',\n",
       " 'mercury',\n",
       " 'venus',\n",
       " 'earth-moon-barycenter',\n",
       " 'mars',\n",
       " 'jupiter',\n",
       " 'saturn',\n",
       " 'uranus',\n",
       " 'neptune')"
      ]
     },
     "execution_count": 67,
     "metadata": {},
     "output_type": "execute_result"
    }
   ],
   "source": [
    "solar_system_ephemeris.bodies"
   ]
  },
  {
   "cell_type": "code",
   "execution_count": null,
   "metadata": {},
   "outputs": [],
   "source": []
  },
  {
   "cell_type": "code",
   "execution_count": null,
   "metadata": {},
   "outputs": [],
   "source": []
  }
 ],
 "metadata": {
  "kernelspec": {
   "display_name": "Python 3",
   "language": "python",
   "name": "python3"
  },
  "language_info": {
   "codemirror_mode": {
    "name": "ipython",
    "version": 3
   },
   "file_extension": ".py",
   "mimetype": "text/x-python",
   "name": "python",
   "nbconvert_exporter": "python",
   "pygments_lexer": "ipython3",
   "version": "3.7.6"
  }
 },
 "nbformat": 4,
 "nbformat_minor": 4
}
