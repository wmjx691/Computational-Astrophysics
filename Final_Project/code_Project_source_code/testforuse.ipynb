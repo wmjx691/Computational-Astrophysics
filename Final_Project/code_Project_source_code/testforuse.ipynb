{
 "cells": [
  {
   "cell_type": "markdown",
   "metadata": {},
   "source": [
    "# 時間"
   ]
  },
  {
   "cell_type": "markdown",
   "metadata": {},
   "source": [
    "https://docs.astropy.org/en/stable/time/index.html"
   ]
  },
  {
   "cell_type": "code",
   "execution_count": 167,
   "metadata": {},
   "outputs": [],
   "source": [
    "from astropy.time import Time\n",
    "t        = Time(\"2021-06-10 12:00\")\n",
    "t_launch = Time(\"1977-08-20 12:00\")\n",
    "t_arrive = Time(\"1987-08-20 12:00\")"
   ]
  },
  {
   "cell_type": "code",
   "execution_count": 168,
   "metadata": {},
   "outputs": [
    {
     "data": {
      "text/plain": [
       "<Time object: scale='utc' format='iso' value=2021-06-10 12:00:00.000>"
      ]
     },
     "execution_count": 168,
     "metadata": {},
     "output_type": "execute_result"
    }
   ],
   "source": [
    "t"
   ]
  },
  {
   "cell_type": "code",
   "execution_count": 169,
   "metadata": {},
   "outputs": [
    {
     "data": {
      "text/plain": [
       "'2021-06-10 12:00:00.000'"
      ]
     },
     "execution_count": 169,
     "metadata": {},
     "output_type": "execute_result"
    }
   ],
   "source": [
    "t.value"
   ]
  },
  {
   "cell_type": "code",
   "execution_count": 170,
   "metadata": {},
   "outputs": [
    {
     "data": {
      "text/plain": [
       "'2021-06-10'"
      ]
     },
     "execution_count": 170,
     "metadata": {},
     "output_type": "execute_result"
    }
   ],
   "source": [
    "# subfnt :　date_hms, date_hm, date\n",
    "t.to_value('iso', subfmt='date')"
   ]
  },
  {
   "cell_type": "code",
   "execution_count": 171,
   "metadata": {},
   "outputs": [
    {
     "data": {
      "text/plain": [
       "2459376.0"
      ]
     },
     "execution_count": 171,
     "metadata": {},
     "output_type": "execute_result"
    }
   ],
   "source": [
    "#傳換成天為單位的時間\n",
    "t.jd"
   ]
  },
  {
   "cell_type": "code",
   "execution_count": 172,
   "metadata": {},
   "outputs": [],
   "source": [
    "time_duration = np.arange(t_launch.jd,t_arrive.jd+1,1)\n",
    "time_test = np.arange(t_launch.jd,t_launch.jd+365,1)"
   ]
  },
  {
   "cell_type": "code",
   "execution_count": 191,
   "metadata": {},
   "outputs": [
    {
     "data": {
      "text/plain": [
       "array([2443376., 2443377., 2443378., 2443379., 2443380., 2443381.,\n",
       "       2443382., 2443383., 2443384., 2443385., 2443386., 2443387.,\n",
       "       2443388., 2443389., 2443390., 2443391., 2443392., 2443393.,\n",
       "       2443394., 2443395., 2443396., 2443397., 2443398., 2443399.,\n",
       "       2443400., 2443401., 2443402., 2443403., 2443404., 2443405.,\n",
       "       2443406., 2443407., 2443408., 2443409., 2443410., 2443411.,\n",
       "       2443412., 2443413., 2443414., 2443415., 2443416., 2443417.,\n",
       "       2443418., 2443419., 2443420., 2443421., 2443422., 2443423.,\n",
       "       2443424., 2443425., 2443426., 2443427., 2443428., 2443429.,\n",
       "       2443430., 2443431., 2443432., 2443433., 2443434., 2443435.,\n",
       "       2443436., 2443437., 2443438., 2443439., 2443440., 2443441.,\n",
       "       2443442., 2443443., 2443444., 2443445., 2443446., 2443447.,\n",
       "       2443448., 2443449., 2443450., 2443451., 2443452., 2443453.,\n",
       "       2443454., 2443455., 2443456., 2443457., 2443458., 2443459.,\n",
       "       2443460., 2443461., 2443462., 2443463., 2443464., 2443465.,\n",
       "       2443466., 2443467., 2443468., 2443469., 2443470., 2443471.,\n",
       "       2443472., 2443473., 2443474., 2443475., 2443476., 2443477.,\n",
       "       2443478., 2443479., 2443480., 2443481., 2443482., 2443483.,\n",
       "       2443484., 2443485., 2443486., 2443487., 2443488., 2443489.,\n",
       "       2443490., 2443491., 2443492., 2443493., 2443494., 2443495.,\n",
       "       2443496., 2443497., 2443498., 2443499., 2443500., 2443501.,\n",
       "       2443502., 2443503., 2443504., 2443505., 2443506., 2443507.,\n",
       "       2443508., 2443509., 2443510., 2443511., 2443512., 2443513.,\n",
       "       2443514., 2443515., 2443516., 2443517., 2443518., 2443519.,\n",
       "       2443520., 2443521., 2443522., 2443523., 2443524., 2443525.,\n",
       "       2443526., 2443527., 2443528., 2443529., 2443530., 2443531.,\n",
       "       2443532., 2443533., 2443534., 2443535., 2443536., 2443537.,\n",
       "       2443538., 2443539., 2443540., 2443541., 2443542., 2443543.,\n",
       "       2443544., 2443545., 2443546., 2443547., 2443548., 2443549.,\n",
       "       2443550., 2443551., 2443552., 2443553., 2443554., 2443555.,\n",
       "       2443556., 2443557., 2443558., 2443559., 2443560., 2443561.,\n",
       "       2443562., 2443563., 2443564., 2443565., 2443566., 2443567.,\n",
       "       2443568., 2443569., 2443570., 2443571., 2443572., 2443573.,\n",
       "       2443574., 2443575., 2443576., 2443577., 2443578., 2443579.,\n",
       "       2443580., 2443581., 2443582., 2443583., 2443584., 2443585.,\n",
       "       2443586., 2443587., 2443588., 2443589., 2443590., 2443591.,\n",
       "       2443592., 2443593., 2443594., 2443595., 2443596., 2443597.,\n",
       "       2443598., 2443599., 2443600., 2443601., 2443602., 2443603.,\n",
       "       2443604., 2443605., 2443606., 2443607., 2443608., 2443609.,\n",
       "       2443610., 2443611., 2443612., 2443613., 2443614., 2443615.,\n",
       "       2443616., 2443617., 2443618., 2443619., 2443620., 2443621.,\n",
       "       2443622., 2443623., 2443624., 2443625., 2443626., 2443627.,\n",
       "       2443628., 2443629., 2443630., 2443631., 2443632., 2443633.,\n",
       "       2443634., 2443635., 2443636., 2443637., 2443638., 2443639.,\n",
       "       2443640., 2443641., 2443642., 2443643., 2443644., 2443645.,\n",
       "       2443646., 2443647., 2443648., 2443649., 2443650., 2443651.,\n",
       "       2443652., 2443653., 2443654., 2443655., 2443656., 2443657.,\n",
       "       2443658., 2443659., 2443660., 2443661., 2443662., 2443663.,\n",
       "       2443664., 2443665., 2443666., 2443667., 2443668., 2443669.,\n",
       "       2443670., 2443671., 2443672., 2443673., 2443674., 2443675.,\n",
       "       2443676., 2443677., 2443678., 2443679., 2443680., 2443681.,\n",
       "       2443682., 2443683., 2443684., 2443685., 2443686., 2443687.,\n",
       "       2443688., 2443689., 2443690., 2443691., 2443692., 2443693.,\n",
       "       2443694., 2443695., 2443696., 2443697., 2443698., 2443699.,\n",
       "       2443700., 2443701., 2443702., 2443703., 2443704., 2443705.,\n",
       "       2443706., 2443707., 2443708., 2443709., 2443710., 2443711.,\n",
       "       2443712., 2443713., 2443714., 2443715., 2443716., 2443717.,\n",
       "       2443718., 2443719., 2443720., 2443721., 2443722., 2443723.,\n",
       "       2443724., 2443725., 2443726., 2443727., 2443728., 2443729.,\n",
       "       2443730., 2443731., 2443732., 2443733., 2443734., 2443735.,\n",
       "       2443736., 2443737., 2443738., 2443739., 2443740.])"
      ]
     },
     "execution_count": 191,
     "metadata": {},
     "output_type": "execute_result"
    }
   ],
   "source": [
    "time_test"
   ]
  },
  {
   "cell_type": "markdown",
   "metadata": {},
   "source": [
    "# 座標"
   ]
  },
  {
   "cell_type": "markdown",
   "metadata": {},
   "source": [
    "https://pypi.org/project/jplephem/"
   ]
  },
  {
   "cell_type": "code",
   "execution_count": 173,
   "metadata": {},
   "outputs": [
    {
     "name": "stdout",
     "output_type": "stream",
     "text": [
      "File type DAF/SPK and format LTL-IEEE with 15 segments:\n",
      "2414864.50..2471184.50  Solar System Barycenter (0) -> Mercury Barycenter (1)\n",
      "2414864.50..2471184.50  Solar System Barycenter (0) -> Venus Barycenter (2)\n",
      "2414864.50..2471184.50  Solar System Barycenter (0) -> Earth Barycenter (3)\n",
      "2414864.50..2471184.50  Solar System Barycenter (0) -> Mars Barycenter (4)\n",
      "2414864.50..2471184.50  Solar System Barycenter (0) -> Jupiter Barycenter (5)\n",
      "2414864.50..2471184.50  Solar System Barycenter (0) -> Saturn Barycenter (6)\n",
      "2414864.50..2471184.50  Solar System Barycenter (0) -> Uranus Barycenter (7)\n",
      "2414864.50..2471184.50  Solar System Barycenter (0) -> Neptune Barycenter (8)\n",
      "2414864.50..2471184.50  Solar System Barycenter (0) -> Pluto Barycenter (9)\n",
      "2414864.50..2471184.50  Solar System Barycenter (0) -> Sun (10)\n",
      "2414864.50..2471184.50  Earth Barycenter (3) -> Moon (301)\n",
      "2414864.50..2471184.50  Earth Barycenter (3) -> Earth (399)\n",
      "2414864.50..2471184.50  Mercury Barycenter (1) -> Mercury (199)\n",
      "2414864.50..2471184.50  Venus Barycenter (2) -> Venus (299)\n",
      "2414864.50..2471184.50  Mars Barycenter (4) -> Mars (499)\n"
     ]
    }
   ],
   "source": [
    "from jplephem.spk import SPK\n",
    "kernel = SPK.open('de421.bsp')\n",
    "print(kernel)"
   ]
  },
  {
   "cell_type": "code",
   "execution_count": 174,
   "metadata": {},
   "outputs": [],
   "source": [
    "import numpy as np\n",
    "np.set_printoptions(precision=3)\n",
    "#postion 單位是km"
   ]
  },
  {
   "cell_type": "code",
   "execution_count": 175,
   "metadata": {},
   "outputs": [
    {
     "name": "stdout",
     "output_type": "stream",
     "text": [
      "[[ 0.857  0.866  0.874 ...  0.83   0.839  0.848]\n",
      " [-0.5   -0.487 -0.474 ... -0.542 -0.529 -0.516]\n",
      " [-0.217 -0.211 -0.205 ... -0.235 -0.23  -0.224]]\n"
     ]
    }
   ],
   "source": [
    "#以太陽\"0\"為原點的地球\"3\"[0,3]\n",
    "position = kernel[0,3].compute(time_test)\n",
    "position=position/149597871\n",
    "print(position)"
   ]
  },
  {
   "cell_type": "code",
   "execution_count": 186,
   "metadata": {},
   "outputs": [
    {
     "data": {
      "text/plain": [
       "0.857059549062007"
      ]
     },
     "execution_count": 186,
     "metadata": {},
     "output_type": "execute_result"
    }
   ],
   "source": [
    "position[0][0]"
   ]
  },
  {
   "cell_type": "markdown",
   "metadata": {},
   "source": [
    "# 繪圖"
   ]
  },
  {
   "cell_type": "markdown",
   "metadata": {},
   "source": [
    "https://hackmd.io/@yizhewang/ByEgnsY0H"
   ]
  },
  {
   "cell_type": "code",
   "execution_count": 207,
   "metadata": {},
   "outputs": [
    {
     "data": {
      "image/png": "[encoded data removed]",
      "text/plain": [
       "<Figure size 700x700 with 1 Axes>"
      ]
     },
     "metadata": {
      "needs_background": "light"
     },
     "output_type": "display_data"
    }
   ],
   "source": [
    "import numpy as np\n",
    "import matplotlib.pyplot as plt\n",
    "import matplotlib.animation as animation\n",
    "\n",
    "\"\"\"\n",
    " 1.參數設定\n",
    "\"\"\"\n",
    "\n",
    "#動畫格數\n",
    "N=365\n",
    "\n",
    "\"\"\"\n",
    " 2.繪圖\n",
    "\"\"\"\n",
    "fig = plt.figure(figsize=(7, 7), dpi=100)\n",
    "ax = fig.gca()\n",
    "line, = ax.plot(position[0][:], position[1][:], color='blue', linestyle='-', linewidth=3)\n",
    "dot, = ax.plot([], [], color='red', marker='o', markersize=10, markeredgecolor='black', linestyle='')\n",
    "ax.set_xlabel('x', fontsize=14)\n",
    "ax.set_ylabel('y', fontsize=14)\n",
    "\n",
    "def update(i):\n",
    "    dot.set_data(position[0][i], position[1][i])\n",
    "    return dot,\n",
    "\n",
    "def init():\n",
    "    dot.set_data(position[0][0], position[1][0])\n",
    "    return dot,\n",
    "\n",
    "ani = animation.FuncAnimation(fig=fig, func=update, frames=N, init_func=init, interval=365/N, blit=True, repeat=True)\n",
    "plt.show()\n",
    "#pillow是gif用的writer\n",
    "ani.save('MovingPointMatplot.gif', writer='pillow', fps=1/0.03)"
   ]
  },
  {
   "cell_type": "code",
   "execution_count": null,
   "metadata": {},
   "outputs": [],
   "source": []
  },
  {
   "cell_type": "code",
   "execution_count": 124,
   "metadata": {},
   "outputs": [
    {
     "name": "stdout",
     "output_type": "stream",
     "text": [
      "[[-1.104e+08 -1.121e+08 -1.138e+08 -1.154e+08]\n",
      " [ 8.931e+07  8.751e+07  8.569e+07  8.384e+07]\n",
      " [ 3.869e+07  3.791e+07  3.712e+07  3.632e+07]]\n"
     ]
    }
   ],
   "source": [
    "jd = np.array([2457061.5, 2457062.5, 2457063.5, 2457064.5])\n",
    "position = kernel[0,3].compute(jd)\n",
    "print(position)"
   ]
  },
  {
   "cell_type": "code",
   "execution_count": null,
   "metadata": {},
   "outputs": [],
   "source": []
  },
  {
   "cell_type": "code",
   "execution_count": null,
   "metadata": {},
   "outputs": [],
   "source": []
  },
  {
   "cell_type": "code",
   "execution_count": null,
   "metadata": {},
   "outputs": [],
   "source": []
  },
  {
   "cell_type": "code",
   "execution_count": null,
   "metadata": {},
   "outputs": [],
   "source": []
  },
  {
   "cell_type": "code",
   "execution_count": null,
   "metadata": {},
   "outputs": [],
   "source": []
  },
  {
   "cell_type": "markdown",
   "metadata": {},
   "source": [
    "https://docs.astropy.org/en/stable/coordinates/solarsystem.html"
   ]
  },
  {
   "cell_type": "code",
   "execution_count": 99,
   "metadata": {},
   "outputs": [
    {
     "data": {
      "text/plain": [
       "<SkyCoord (GCRS: obstime=2014-09-22 23:22:00.000, obsgeoloc=(3949481.6923192, -550931.90668394, 4961151.73597576) m, obsgeovel=(40.15954083, 287.47876681, -0.04597885) m / s): (ra, dec, distance) in (deg, deg, AU)\n",
       "    (136.91116209, 17.02935409, 5.94386022)>"
      ]
     },
     "execution_count": 99,
     "metadata": {},
     "output_type": "execute_result"
    }
   ],
   "source": [
    "from astropy.coordinates import solar_system_ephemeris, EarthLocation\n",
    "from astropy.coordinates import get_body_barycentric, get_body, get_moon\n",
    "\n",
    "loc = EarthLocation.of_site('greenwich') \n",
    "with solar_system_ephemeris.set('builtin'):\n",
    "    jup = get_body('jupiter', t, loc) \n",
    "jup  "
   ]
  },
  {
   "cell_type": "code",
   "execution_count": null,
   "metadata": {},
   "outputs": [],
   "source": []
  },
  {
   "cell_type": "code",
   "execution_count": 60,
   "metadata": {},
   "outputs": [
    {
     "data": {
      "text/plain": [
       "<ScienceState solar_system_ephemeris: 'de432s'>"
      ]
     },
     "execution_count": 60,
     "metadata": {},
     "output_type": "execute_result"
    }
   ],
   "source": [
    "solar_system_ephemeris.set('de432s') "
   ]
  },
  {
   "cell_type": "code",
   "execution_count": 61,
   "metadata": {},
   "outputs": [
    {
     "data": {
      "text/plain": [
       "<SkyCoord (GCRS: obstime=2014-09-22 23:22:00.000, obsgeoloc=(3949481.6923049, -550931.9066788, 4961151.73597586) m, obsgeovel=(40.15954083, 287.47871186, -0.04597878) m / s): (ra, dec, distance) in (deg, deg, km)\n",
       "    (136.90234802, 17.03160667, 8.89196021e+08)>"
      ]
     },
     "execution_count": 61,
     "metadata": {},
     "output_type": "execute_result"
    }
   ],
   "source": [
    "get_body('jupiter', t, loc) "
   ]
  },
  {
   "cell_type": "code",
   "execution_count": 70,
   "metadata": {},
   "outputs": [
    {
     "data": {
      "text/plain": [
       "<SkyCoord (GCRS: obstime=2014-09-22 23:22:00.000, obsgeoloc=(3949481.6923192, -550931.90668394, 4961151.73597576) m, obsgeovel=(40.15954083, 287.47876681, -0.04597885) m / s): (ra, dec, distance) in (deg, deg, AU)\n",
       "    (172.05047643, -51.20602058, 4.25483071e-05)>"
      ]
     },
     "execution_count": 70,
     "metadata": {},
     "output_type": "execute_result"
    }
   ],
   "source": [
    "get_body('earth', t, loc) "
   ]
  },
  {
   "cell_type": "code",
   "execution_count": 63,
   "metadata": {},
   "outputs": [
    {
     "data": {
      "text/plain": [
       "<CartesianRepresentation (x, y, z) in km\n",
       "    (1.50107535e+08, -866789.11996806, -418963.55218447)>"
      ]
     },
     "execution_count": 63,
     "metadata": {},
     "output_type": "execute_result"
    }
   ],
   "source": [
    "get_body_barycentric('moon', t) "
   ]
  },
  {
   "cell_type": "code",
   "execution_count": 65,
   "metadata": {},
   "outputs": [
    {
     "data": {
      "text/plain": [
       "('sun',\n",
       " 'mercury',\n",
       " 'venus',\n",
       " 'earth-moon-barycenter',\n",
       " 'earth',\n",
       " 'moon',\n",
       " 'mars',\n",
       " 'jupiter',\n",
       " 'saturn',\n",
       " 'uranus',\n",
       " 'neptune',\n",
       " 'pluto')"
      ]
     },
     "execution_count": 65,
     "metadata": {},
     "output_type": "execute_result"
    }
   ],
   "source": [
    "solar_system_ephemeris.bodies "
   ]
  },
  {
   "cell_type": "code",
   "execution_count": 66,
   "metadata": {},
   "outputs": [
    {
     "data": {
      "text/plain": [
       "<ScienceState solar_system_ephemeris: 'builtin'>"
      ]
     },
     "execution_count": 66,
     "metadata": {},
     "output_type": "execute_result"
    }
   ],
   "source": [
    "solar_system_ephemeris.set('builtin')"
   ]
  },
  {
   "cell_type": "code",
   "execution_count": 67,
   "metadata": {},
   "outputs": [
    {
     "data": {
      "text/plain": [
       "('earth',\n",
       " 'sun',\n",
       " 'moon',\n",
       " 'mercury',\n",
       " 'venus',\n",
       " 'earth-moon-barycenter',\n",
       " 'mars',\n",
       " 'jupiter',\n",
       " 'saturn',\n",
       " 'uranus',\n",
       " 'neptune')"
      ]
     },
     "execution_count": 67,
     "metadata": {},
     "output_type": "execute_result"
    }
   ],
   "source": [
    "solar_system_ephemeris.bodies"
   ]
  },
  {
   "cell_type": "code",
   "execution_count": null,
   "metadata": {},
   "outputs": [],
   "source": []
  },
  {
   "cell_type": "code",
   "execution_count": null,
   "metadata": {},
   "outputs": [],
   "source": []
  }
 ],
 "metadata": {
  "kernelspec": {
   "display_name": "Python 3",
   "language": "python",
   "name": "python3"
  },
  "language_info": {
   "codemirror_mode": {
    "name": "ipython",
    "version": 3
   },
   "file_extension": ".py",
   "mimetype": "text/x-python",
   "name": "python",
   "nbconvert_exporter": "python",
   "pygments_lexer": "ipython3",
   "version": "3.7.6"
  }
 },
 "nbformat": 4,
 "nbformat_minor": 4
}
