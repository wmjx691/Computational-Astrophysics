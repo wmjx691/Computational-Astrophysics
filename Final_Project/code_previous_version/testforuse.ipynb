{
 "cells": [
  {
   "cell_type": "markdown",
   "metadata": {},
   "source": [
    "# Time"
   ]
  },
  {
   "cell_type": "markdown",
   "metadata": {},
   "source": [
    "https://docs.astropy.org/en/stable/time/index.html"
   ]
  },
  {
   "cell_type": "code",
   "execution_count": 35,
   "metadata": {},
   "outputs": [],
   "source": [
    "from astropy.time import Time\n",
    "t        = Time(\"2021-06-16 03:27\")\n",
    "t_launch = Time(\"1977-08-20 00:00\")\n",
    "t_arrive = Time(\"1987-08-20 00:00\")"
   ]
  },
  {
   "cell_type": "code",
   "execution_count": 36,
   "metadata": {},
   "outputs": [
    {
     "name": "stdout",
     "output_type": "stream",
     "text": [
      "2021-06-16 03:27:00.000\n"
     ]
    }
   ],
   "source": [
    "print(t)"
   ]
  },
  {
   "cell_type": "code",
   "execution_count": 37,
   "metadata": {},
   "outputs": [
    {
     "name": "stdout",
     "output_type": "stream",
     "text": [
      "2459381.64375\n"
     ]
    }
   ],
   "source": [
    "print(t.jd)"
   ]
  },
  {
   "cell_type": "code",
   "execution_count": 38,
   "metadata": {},
   "outputs": [],
   "source": [
    "import numpy as np\n",
    "time_duration = np.arange(t_launch.jd,t_arrive.jd+1,1)\n",
    "time_test = np.arange(t_launch.jd,t_launch.jd+365,1)"
   ]
  },
  {
   "cell_type": "code",
   "execution_count": 33,
   "metadata": {},
   "outputs": [
    {
     "name": "stdout",
     "output_type": "stream",
     "text": [
      "[2443375.5 2443376.5 2443377.5 ... 2447025.5 2447026.5 2447027.5]\n"
     ]
    }
   ],
   "source": [
    "print(time_duration)"
   ]
  },
  {
   "cell_type": "code",
   "execution_count": 2,
   "metadata": {},
   "outputs": [
    {
     "data": {
      "text/plain": [
       "astropy.time.core.Time"
      ]
     },
     "execution_count": 2,
     "metadata": {},
     "output_type": "execute_result"
    }
   ],
   "source": [
    "type(t)"
   ]
  },
  {
   "cell_type": "code",
   "execution_count": 3,
   "metadata": {},
   "outputs": [
    {
     "data": {
      "text/plain": [
       "'2021-06-10 00:00:00.000'"
      ]
     },
     "execution_count": 3,
     "metadata": {},
     "output_type": "execute_result"
    }
   ],
   "source": [
    "t.value"
   ]
  },
  {
   "cell_type": "code",
   "execution_count": 4,
   "metadata": {},
   "outputs": [
    {
     "data": {
      "text/plain": [
       "'2021-06-10'"
      ]
     },
     "execution_count": 4,
     "metadata": {},
     "output_type": "execute_result"
    }
   ],
   "source": [
    "# subfnt :　date_hms, date_hm, date\n",
    "t.to_value('iso', subfmt='date')"
   ]
  },
  {
   "cell_type": "code",
   "execution_count": 5,
   "metadata": {},
   "outputs": [],
   "source": [
    "te=t.jd"
   ]
  },
  {
   "cell_type": "code",
   "execution_count": 6,
   "metadata": {},
   "outputs": [
    {
     "ename": "NameError",
     "evalue": "name 'change' is not defined",
     "output_type": "error",
     "traceback": [
      "\u001b[0;31m---------------------------------------------------------------------------\u001b[0m",
      "\u001b[0;31mNameError\u001b[0m                                 Traceback (most recent call last)",
      "\u001b[0;32m<ipython-input-6-05f06a82ebb1>\u001b[0m in \u001b[0;36m<module>\u001b[0;34m\u001b[0m\n\u001b[0;32m----> 1\u001b[0;31m \u001b[0mchange\u001b[0m\u001b[0;34m.\u001b[0m\u001b[0mto_value\u001b[0m\u001b[0;34m(\u001b[0m\u001b[0;34m'iso'\u001b[0m\u001b[0;34m,\u001b[0m \u001b[0msubfmt\u001b[0m\u001b[0;34m=\u001b[0m\u001b[0;34m'date'\u001b[0m\u001b[0;34m)\u001b[0m\u001b[0;34m\u001b[0m\u001b[0;34m\u001b[0m\u001b[0m\n\u001b[0m",
      "\u001b[0;31mNameError\u001b[0m: name 'change' is not defined"
     ]
    }
   ],
   "source": [
    "change.to_value('iso', subfmt='date')  "
   ]
  },
  {
   "cell_type": "code",
   "execution_count": 10,
   "metadata": {},
   "outputs": [],
   "source": [
    "import numpy as np\n",
    "time_duration = np.arange(t_launch.jd,t_arrive.jd+1,1)\n",
    "time_test = np.arange(t_launch.jd,t_launch.jd+365,1)"
   ]
  },
  {
   "cell_type": "code",
   "execution_count": 11,
   "metadata": {},
   "outputs": [
    {
     "ename": "NameError",
     "evalue": "name 'temp' is not defined",
     "output_type": "error",
     "traceback": [
      "\u001b[0;31m---------------------------------------------------------------------------\u001b[0m",
      "\u001b[0;31mNameError\u001b[0m                                 Traceback (most recent call last)",
      "\u001b[0;32m<ipython-input-11-6e97a80c0205>\u001b[0m in \u001b[0;36m<module>\u001b[0;34m\u001b[0m\n\u001b[0;32m----> 1\u001b[0;31m \u001b[0mtemp\u001b[0m\u001b[0;34m.\u001b[0m\u001b[0mto_value\u001b[0m\u001b[0;34m(\u001b[0m\u001b[0;34m'iso'\u001b[0m\u001b[0;34m,\u001b[0m \u001b[0msubfmt\u001b[0m\u001b[0;34m=\u001b[0m\u001b[0;34m'date'\u001b[0m\u001b[0;34m)\u001b[0m\u001b[0;34m\u001b[0m\u001b[0;34m\u001b[0m\u001b[0m\n\u001b[0m",
      "\u001b[0;31mNameError\u001b[0m: name 'temp' is not defined"
     ]
    }
   ],
   "source": [
    "temp.to_value('iso', subfmt='date')  "
   ]
  },
  {
   "cell_type": "code",
   "execution_count": 12,
   "metadata": {},
   "outputs": [],
   "source": [
    "time_test_str   = np.empty(len(time_test), dtype='object')\n",
    "\n",
    "for i in range(len(time_test)):\n",
    "    temp=Time('%s' %time_test[i], format='jd')\n",
    "    time_test_str[i]=temp.to_value('iso', subfmt='date')  "
   ]
  },
  {
   "cell_type": "code",
   "execution_count": 13,
   "metadata": {},
   "outputs": [
    {
     "data": {
      "text/plain": [
       "'1977-08-21'"
      ]
     },
     "execution_count": 13,
     "metadata": {},
     "output_type": "execute_result"
    }
   ],
   "source": [
    "time_test_str[1]"
   ]
  },
  {
   "cell_type": "code",
   "execution_count": 14,
   "metadata": {},
   "outputs": [
    {
     "data": {
      "text/plain": [
       "array([2443375.5, 2443376.5, 2443377.5, ..., 2447025.5, 2447026.5,\n",
       "       2447027.5])"
      ]
     },
     "execution_count": 14,
     "metadata": {},
     "output_type": "execute_result"
    }
   ],
   "source": [
    "time_duration"
   ]
  },
  {
   "cell_type": "code",
   "execution_count": 15,
   "metadata": {},
   "outputs": [
    {
     "name": "stdout",
     "output_type": "stream",
     "text": [
      "[2443375.5 2443376.5 2443377.5 ... 2447025.5 2447026.5 2447027.5]\n"
     ]
    }
   ],
   "source": [
    "print(time_duration)"
   ]
  },
  {
   "cell_type": "code",
   "execution_count": 16,
   "metadata": {},
   "outputs": [
    {
     "data": {
      "text/plain": [
       "365"
      ]
     },
     "execution_count": 16,
     "metadata": {},
     "output_type": "execute_result"
    }
   ],
   "source": [
    "len(time_test)"
   ]
  },
  {
   "cell_type": "code",
   "execution_count": 17,
   "metadata": {},
   "outputs": [
    {
     "data": {
      "text/plain": [
       "array([0, 1, 2, 3, 4, 5, 6, 7, 8, 9])"
      ]
     },
     "execution_count": 17,
     "metadata": {},
     "output_type": "execute_result"
    }
   ],
   "source": [
    "np.arange(0, 10)"
   ]
  },
  {
   "cell_type": "code",
   "execution_count": 18,
   "metadata": {},
   "outputs": [
    {
     "data": {
      "text/plain": [
       "array([2443375.5, 2443376.5, 2443377.5, 2443378.5, 2443379.5, 2443380.5,\n",
       "       2443381.5, 2443382.5, 2443383.5, 2443384.5, 2443385.5, 2443386.5,\n",
       "       2443387.5, 2443388.5, 2443389.5, 2443390.5, 2443391.5, 2443392.5,\n",
       "       2443393.5, 2443394.5, 2443395.5, 2443396.5, 2443397.5, 2443398.5,\n",
       "       2443399.5, 2443400.5, 2443401.5, 2443402.5, 2443403.5, 2443404.5,\n",
       "       2443405.5, 2443406.5, 2443407.5, 2443408.5, 2443409.5, 2443410.5,\n",
       "       2443411.5, 2443412.5, 2443413.5, 2443414.5, 2443415.5, 2443416.5,\n",
       "       2443417.5, 2443418.5, 2443419.5, 2443420.5, 2443421.5, 2443422.5,\n",
       "       2443423.5, 2443424.5, 2443425.5, 2443426.5, 2443427.5, 2443428.5,\n",
       "       2443429.5, 2443430.5, 2443431.5, 2443432.5, 2443433.5, 2443434.5,\n",
       "       2443435.5, 2443436.5, 2443437.5, 2443438.5, 2443439.5, 2443440.5,\n",
       "       2443441.5, 2443442.5, 2443443.5, 2443444.5, 2443445.5, 2443446.5,\n",
       "       2443447.5, 2443448.5, 2443449.5, 2443450.5, 2443451.5, 2443452.5,\n",
       "       2443453.5, 2443454.5, 2443455.5, 2443456.5, 2443457.5, 2443458.5,\n",
       "       2443459.5, 2443460.5, 2443461.5, 2443462.5, 2443463.5, 2443464.5,\n",
       "       2443465.5, 2443466.5, 2443467.5, 2443468.5, 2443469.5, 2443470.5,\n",
       "       2443471.5, 2443472.5, 2443473.5, 2443474.5, 2443475.5, 2443476.5,\n",
       "       2443477.5, 2443478.5, 2443479.5, 2443480.5, 2443481.5, 2443482.5,\n",
       "       2443483.5, 2443484.5, 2443485.5, 2443486.5, 2443487.5, 2443488.5,\n",
       "       2443489.5, 2443490.5, 2443491.5, 2443492.5, 2443493.5, 2443494.5,\n",
       "       2443495.5, 2443496.5, 2443497.5, 2443498.5, 2443499.5, 2443500.5,\n",
       "       2443501.5, 2443502.5, 2443503.5, 2443504.5, 2443505.5, 2443506.5,\n",
       "       2443507.5, 2443508.5, 2443509.5, 2443510.5, 2443511.5, 2443512.5,\n",
       "       2443513.5, 2443514.5, 2443515.5, 2443516.5, 2443517.5, 2443518.5,\n",
       "       2443519.5, 2443520.5, 2443521.5, 2443522.5, 2443523.5, 2443524.5,\n",
       "       2443525.5, 2443526.5, 2443527.5, 2443528.5, 2443529.5, 2443530.5,\n",
       "       2443531.5, 2443532.5, 2443533.5, 2443534.5, 2443535.5, 2443536.5,\n",
       "       2443537.5, 2443538.5, 2443539.5, 2443540.5, 2443541.5, 2443542.5,\n",
       "       2443543.5, 2443544.5, 2443545.5, 2443546.5, 2443547.5, 2443548.5,\n",
       "       2443549.5, 2443550.5, 2443551.5, 2443552.5, 2443553.5, 2443554.5,\n",
       "       2443555.5, 2443556.5, 2443557.5, 2443558.5, 2443559.5, 2443560.5,\n",
       "       2443561.5, 2443562.5, 2443563.5, 2443564.5, 2443565.5, 2443566.5,\n",
       "       2443567.5, 2443568.5, 2443569.5, 2443570.5, 2443571.5, 2443572.5,\n",
       "       2443573.5, 2443574.5, 2443575.5, 2443576.5, 2443577.5, 2443578.5,\n",
       "       2443579.5, 2443580.5, 2443581.5, 2443582.5, 2443583.5, 2443584.5,\n",
       "       2443585.5, 2443586.5, 2443587.5, 2443588.5, 2443589.5, 2443590.5,\n",
       "       2443591.5, 2443592.5, 2443593.5, 2443594.5, 2443595.5, 2443596.5,\n",
       "       2443597.5, 2443598.5, 2443599.5, 2443600.5, 2443601.5, 2443602.5,\n",
       "       2443603.5, 2443604.5, 2443605.5, 2443606.5, 2443607.5, 2443608.5,\n",
       "       2443609.5, 2443610.5, 2443611.5, 2443612.5, 2443613.5, 2443614.5,\n",
       "       2443615.5, 2443616.5, 2443617.5, 2443618.5, 2443619.5, 2443620.5,\n",
       "       2443621.5, 2443622.5, 2443623.5, 2443624.5, 2443625.5, 2443626.5,\n",
       "       2443627.5, 2443628.5, 2443629.5, 2443630.5, 2443631.5, 2443632.5,\n",
       "       2443633.5, 2443634.5, 2443635.5, 2443636.5, 2443637.5, 2443638.5,\n",
       "       2443639.5, 2443640.5, 2443641.5, 2443642.5, 2443643.5, 2443644.5,\n",
       "       2443645.5, 2443646.5, 2443647.5, 2443648.5, 2443649.5, 2443650.5,\n",
       "       2443651.5, 2443652.5, 2443653.5, 2443654.5, 2443655.5, 2443656.5,\n",
       "       2443657.5, 2443658.5, 2443659.5, 2443660.5, 2443661.5, 2443662.5,\n",
       "       2443663.5, 2443664.5, 2443665.5, 2443666.5, 2443667.5, 2443668.5,\n",
       "       2443669.5, 2443670.5, 2443671.5, 2443672.5, 2443673.5, 2443674.5,\n",
       "       2443675.5, 2443676.5, 2443677.5, 2443678.5, 2443679.5, 2443680.5,\n",
       "       2443681.5, 2443682.5, 2443683.5, 2443684.5, 2443685.5, 2443686.5,\n",
       "       2443687.5, 2443688.5, 2443689.5, 2443690.5, 2443691.5, 2443692.5,\n",
       "       2443693.5, 2443694.5, 2443695.5, 2443696.5, 2443697.5, 2443698.5,\n",
       "       2443699.5, 2443700.5, 2443701.5, 2443702.5, 2443703.5, 2443704.5,\n",
       "       2443705.5, 2443706.5, 2443707.5, 2443708.5, 2443709.5, 2443710.5,\n",
       "       2443711.5, 2443712.5, 2443713.5, 2443714.5, 2443715.5, 2443716.5,\n",
       "       2443717.5, 2443718.5, 2443719.5, 2443720.5, 2443721.5, 2443722.5,\n",
       "       2443723.5, 2443724.5, 2443725.5, 2443726.5, 2443727.5, 2443728.5,\n",
       "       2443729.5, 2443730.5, 2443731.5, 2443732.5, 2443733.5, 2443734.5,\n",
       "       2443735.5, 2443736.5, 2443737.5, 2443738.5, 2443739.5])"
      ]
     },
     "execution_count": 18,
     "metadata": {},
     "output_type": "execute_result"
    }
   ],
   "source": [
    "time_test"
   ]
  },
  {
   "cell_type": "markdown",
   "metadata": {},
   "source": [
    "# Location"
   ]
  },
  {
   "cell_type": "markdown",
   "metadata": {},
   "source": [
    "https://pypi.org/project/jplephem/"
   ]
  },
  {
   "cell_type": "code",
   "execution_count": 28,
   "metadata": {},
   "outputs": [
    {
     "name": "stdout",
     "output_type": "stream",
     "text": [
      "File type DAF/SPK and format LTL-IEEE with 15 segments:\n",
      "2414864.50..2471184.50  Type 2  Solar System Barycenter (0) -> Mercury Barycenter (1)\n",
      "2414864.50..2471184.50  Type 2  Solar System Barycenter (0) -> Venus Barycenter (2)\n",
      "2414864.50..2471184.50  Type 2  Solar System Barycenter (0) -> Earth Barycenter (3)\n",
      "2414864.50..2471184.50  Type 2  Solar System Barycenter (0) -> Mars Barycenter (4)\n",
      "2414864.50..2471184.50  Type 2  Solar System Barycenter (0) -> Jupiter Barycenter (5)\n",
      "2414864.50..2471184.50  Type 2  Solar System Barycenter (0) -> Saturn Barycenter (6)\n",
      "2414864.50..2471184.50  Type 2  Solar System Barycenter (0) -> Uranus Barycenter (7)\n",
      "2414864.50..2471184.50  Type 2  Solar System Barycenter (0) -> Neptune Barycenter (8)\n",
      "2414864.50..2471184.50  Type 2  Solar System Barycenter (0) -> Pluto Barycenter (9)\n",
      "2414864.50..2471184.50  Type 2  Solar System Barycenter (0) -> Sun (10)\n",
      "2414864.50..2471184.50  Type 2  Earth Barycenter (3) -> Moon (301)\n",
      "2414864.50..2471184.50  Type 2  Earth Barycenter (3) -> Earth (399)\n",
      "2414864.50..2471184.50  Type 2  Mercury Barycenter (1) -> Mercury (199)\n",
      "2414864.50..2471184.50  Type 2  Venus Barycenter (2) -> Venus (299)\n",
      "2414864.50..2471184.50  Type 2  Mars Barycenter (4) -> Mars (499)\n"
     ]
    }
   ],
   "source": [
    "from jplephem.spk import SPK\n",
    "kernel = SPK.open('de421.bsp')\n",
    "print(kernel)"
   ]
  },
  {
   "cell_type": "code",
   "execution_count": 29,
   "metadata": {},
   "outputs": [
    {
     "name": "stdout",
     "output_type": "stream",
     "text": [
      "[[ 0.8525638  0.8614942  0.8701791 ...  0.8246632  0.834374   0.8438483]\n",
      " [-0.5070995 -0.4938217 -0.4804038 ... -0.5486526 -0.5358525 -0.5229004]\n",
      " [-0.2199454 -0.2141881 -0.2083702 ... -0.2380494 -0.2324993 -0.2268833]]\n"
     ]
    }
   ],
   "source": [
    "#use Solar System Barycenter(sun index=0) as orgin to get loaction of earth(index=3)\n",
    "position = kernel[0,3].compute(time_test)\n",
    "position=position/149597870.7\n",
    "print(position)"
   ]
  },
  {
   "cell_type": "code",
   "execution_count": 20,
   "metadata": {},
   "outputs": [],
   "source": [
    "import numpy as np\n",
    "np.set_printoptions(precision=7)\n",
    "#postion 單位是km"
   ]
  },
  {
   "cell_type": "code",
   "execution_count": null,
   "metadata": {},
   "outputs": [],
   "source": []
  },
  {
   "cell_type": "code",
   "execution_count": 21,
   "metadata": {},
   "outputs": [
    {
     "name": "stdout",
     "output_type": "stream",
     "text": [
      "[[ 0.8525631  0.8614935  0.8701783 ...  0.8246624  0.8343733  0.8438476]\n",
      " [-0.5070999 -0.493822  -0.4804041 ... -0.548653  -0.5358528 -0.5229007]\n",
      " [-0.2199453 -0.214188  -0.2083701 ... -0.2380493 -0.2324992 -0.2268832]]\n"
     ]
    }
   ],
   "source": []
  },
  {
   "cell_type": "code",
   "execution_count": 16,
   "metadata": {},
   "outputs": [
    {
     "ename": "NameError",
     "evalue": "name 'test' is not defined",
     "output_type": "error",
     "traceback": [
      "\u001b[0;31m---------------------------------------------------------------------------\u001b[0m",
      "\u001b[0;31mNameError\u001b[0m                                 Traceback (most recent call last)",
      "\u001b[0;32m<ipython-input-16-4e1243bd22c6>\u001b[0m in \u001b[0;36m<module>\u001b[0;34m\u001b[0m\n\u001b[0;32m----> 1\u001b[0;31m \u001b[0mtest\u001b[0m\u001b[0;34m\u001b[0m\u001b[0;34m\u001b[0m\u001b[0m\n\u001b[0m",
      "\u001b[0;31mNameError\u001b[0m: name 'test' is not defined"
     ]
    }
   ],
   "source": [
    "test"
   ]
  },
  {
   "cell_type": "code",
   "execution_count": 17,
   "metadata": {},
   "outputs": [
    {
     "data": {
      "text/plain": [
       "array([1, 2, 3, 4, 5, 6, 7, 8, 9])"
      ]
     },
     "execution_count": 17,
     "metadata": {},
     "output_type": "execute_result"
    }
   ],
   "source": [
    "np.arange(1, 10)"
   ]
  },
  {
   "cell_type": "code",
   "execution_count": 18,
   "metadata": {},
   "outputs": [
    {
     "ename": "NameError",
     "evalue": "name 'position' is not defined",
     "output_type": "error",
     "traceback": [
      "\u001b[0;31m---------------------------------------------------------------------------\u001b[0m",
      "\u001b[0;31mNameError\u001b[0m                                 Traceback (most recent call last)",
      "\u001b[0;32m<ipython-input-18-aa7a53715e7b>\u001b[0m in \u001b[0;36m<module>\u001b[0;34m\u001b[0m\n\u001b[0;32m----> 1\u001b[0;31m \u001b[0mposition\u001b[0m\u001b[0;34m.\u001b[0m\u001b[0mshape\u001b[0m\u001b[0;34m\u001b[0m\u001b[0;34m\u001b[0m\u001b[0m\n\u001b[0m",
      "\u001b[0;31mNameError\u001b[0m: name 'position' is not defined"
     ]
    }
   ],
   "source": [
    "position.shape"
   ]
  },
  {
   "cell_type": "code",
   "execution_count": 19,
   "metadata": {},
   "outputs": [],
   "source": [
    "test=np.zeros((10,3,365))"
   ]
  },
  {
   "cell_type": "code",
   "execution_count": 20,
   "metadata": {},
   "outputs": [
    {
     "data": {
      "text/plain": [
       "array([[[0., 0., 0., ..., 0., 0., 0.],\n",
       "        [0., 0., 0., ..., 0., 0., 0.],\n",
       "        [0., 0., 0., ..., 0., 0., 0.]],\n",
       "\n",
       "       [[0., 0., 0., ..., 0., 0., 0.],\n",
       "        [0., 0., 0., ..., 0., 0., 0.],\n",
       "        [0., 0., 0., ..., 0., 0., 0.]],\n",
       "\n",
       "       [[0., 0., 0., ..., 0., 0., 0.],\n",
       "        [0., 0., 0., ..., 0., 0., 0.],\n",
       "        [0., 0., 0., ..., 0., 0., 0.]],\n",
       "\n",
       "       ...,\n",
       "\n",
       "       [[0., 0., 0., ..., 0., 0., 0.],\n",
       "        [0., 0., 0., ..., 0., 0., 0.],\n",
       "        [0., 0., 0., ..., 0., 0., 0.]],\n",
       "\n",
       "       [[0., 0., 0., ..., 0., 0., 0.],\n",
       "        [0., 0., 0., ..., 0., 0., 0.],\n",
       "        [0., 0., 0., ..., 0., 0., 0.]],\n",
       "\n",
       "       [[0., 0., 0., ..., 0., 0., 0.],\n",
       "        [0., 0., 0., ..., 0., 0., 0.],\n",
       "        [0., 0., 0., ..., 0., 0., 0.]]])"
      ]
     },
     "execution_count": 20,
     "metadata": {},
     "output_type": "execute_result"
    }
   ],
   "source": [
    "test"
   ]
  },
  {
   "cell_type": "code",
   "execution_count": 21,
   "metadata": {},
   "outputs": [
    {
     "ename": "NameError",
     "evalue": "name 'time_test_str' is not defined",
     "output_type": "error",
     "traceback": [
      "\u001b[0;31m---------------------------------------------------------------------------\u001b[0m",
      "\u001b[0;31mNameError\u001b[0m                                 Traceback (most recent call last)",
      "\u001b[0;32m<ipython-input-21-80cbd292a4b1>\u001b[0m in \u001b[0;36m<module>\u001b[0;34m\u001b[0m\n\u001b[0;32m----> 1\u001b[0;31m \u001b[0mtime_test_str\u001b[0m\u001b[0;34m\u001b[0m\u001b[0;34m\u001b[0m\u001b[0m\n\u001b[0m\u001b[1;32m      2\u001b[0m \u001b[0mtime_test\u001b[0m\u001b[0;34m\u001b[0m\u001b[0;34m\u001b[0m\u001b[0m\n\u001b[1;32m      3\u001b[0m \u001b[0mtest\u001b[0m\u001b[0;34m\u001b[0m\u001b[0;34m\u001b[0m\u001b[0m\n",
      "\u001b[0;31mNameError\u001b[0m: name 'time_test_str' is not defined"
     ]
    }
   ],
   "source": [
    "time_test_str\n",
    "time_test\n",
    "test"
   ]
  },
  {
   "cell_type": "code",
   "execution_count": 22,
   "metadata": {},
   "outputs": [],
   "source": [
    "import pandas as pd"
   ]
  },
  {
   "cell_type": "code",
   "execution_count": 23,
   "metadata": {},
   "outputs": [
    {
     "ename": "NameError",
     "evalue": "name 'time_test' is not defined",
     "output_type": "error",
     "traceback": [
      "\u001b[0;31m---------------------------------------------------------------------------\u001b[0m",
      "\u001b[0;31mNameError\u001b[0m                                 Traceback (most recent call last)",
      "\u001b[0;32m<ipython-input-23-88b866b2d5fb>\u001b[0m in \u001b[0;36m<module>\u001b[0;34m\u001b[0m\n\u001b[0;32m----> 1\u001b[0;31m df = pd.DataFrame({'time[jd]':time_test,\n\u001b[0m\u001b[1;32m      2\u001b[0m                    \u001b[0;34m'time[utc]'\u001b[0m\u001b[0;34m:\u001b[0m\u001b[0mtime_test_str\u001b[0m\u001b[0;34m,\u001b[0m\u001b[0;34m\u001b[0m\u001b[0;34m\u001b[0m\u001b[0m\n\u001b[1;32m      3\u001b[0m                    'x':test[0][0][:]})\n",
      "\u001b[0;31mNameError\u001b[0m: name 'time_test' is not defined"
     ]
    }
   ],
   "source": [
    "df = pd.DataFrame({'time[jd]':time_test,\n",
    "                   'time[utc]':time_test_str,\n",
    "                   'x':test[0][0][:]})"
   ]
  },
  {
   "cell_type": "code",
   "execution_count": 24,
   "metadata": {},
   "outputs": [
    {
     "ename": "NameError",
     "evalue": "name 'df' is not defined",
     "output_type": "error",
     "traceback": [
      "\u001b[0;31m---------------------------------------------------------------------------\u001b[0m",
      "\u001b[0;31mNameError\u001b[0m                                 Traceback (most recent call last)",
      "\u001b[0;32m<ipython-input-24-00cf07b74dcd>\u001b[0m in \u001b[0;36m<module>\u001b[0;34m\u001b[0m\n\u001b[0;32m----> 1\u001b[0;31m \u001b[0mdf\u001b[0m\u001b[0;34m\u001b[0m\u001b[0;34m\u001b[0m\u001b[0m\n\u001b[0m",
      "\u001b[0;31mNameError\u001b[0m: name 'df' is not defined"
     ]
    }
   ],
   "source": [
    "df"
   ]
  },
  {
   "cell_type": "markdown",
   "metadata": {},
   "source": [
    "# 繪圖"
   ]
  },
  {
   "cell_type": "markdown",
   "metadata": {},
   "source": [
    "https://hackmd.io/@yizhewang/ByEgnsY0H"
   ]
  },
  {
   "cell_type": "code",
   "execution_count": 25,
   "metadata": {},
   "outputs": [
    {
     "ename": "NameError",
     "evalue": "name 'position' is not defined",
     "output_type": "error",
     "traceback": [
      "\u001b[0;31m---------------------------------------------------------------------------\u001b[0m",
      "\u001b[0;31mNameError\u001b[0m                                 Traceback (most recent call last)",
      "\u001b[0;32m<ipython-input-25-912b074fcb82>\u001b[0m in \u001b[0;36m<module>\u001b[0;34m\u001b[0m\n\u001b[1;32m     15\u001b[0m \u001b[0mfig\u001b[0m \u001b[0;34m=\u001b[0m \u001b[0mplt\u001b[0m\u001b[0;34m.\u001b[0m\u001b[0mfigure\u001b[0m\u001b[0;34m(\u001b[0m\u001b[0mfigsize\u001b[0m\u001b[0;34m=\u001b[0m\u001b[0;34m(\u001b[0m\u001b[0;36m7\u001b[0m\u001b[0;34m,\u001b[0m \u001b[0;36m7\u001b[0m\u001b[0;34m)\u001b[0m\u001b[0;34m,\u001b[0m \u001b[0mdpi\u001b[0m\u001b[0;34m=\u001b[0m\u001b[0;36m100\u001b[0m\u001b[0;34m)\u001b[0m\u001b[0;34m\u001b[0m\u001b[0;34m\u001b[0m\u001b[0m\n\u001b[1;32m     16\u001b[0m \u001b[0max\u001b[0m \u001b[0;34m=\u001b[0m \u001b[0mfig\u001b[0m\u001b[0;34m.\u001b[0m\u001b[0mgca\u001b[0m\u001b[0;34m(\u001b[0m\u001b[0;34m)\u001b[0m\u001b[0;34m\u001b[0m\u001b[0;34m\u001b[0m\u001b[0m\n\u001b[0;32m---> 17\u001b[0;31m \u001b[0mline\u001b[0m\u001b[0;34m,\u001b[0m \u001b[0;34m=\u001b[0m \u001b[0max\u001b[0m\u001b[0;34m.\u001b[0m\u001b[0mplot\u001b[0m\u001b[0;34m(\u001b[0m\u001b[0mposition\u001b[0m\u001b[0;34m[\u001b[0m\u001b[0;36m0\u001b[0m\u001b[0;34m]\u001b[0m\u001b[0;34m[\u001b[0m\u001b[0;34m:\u001b[0m\u001b[0;34m]\u001b[0m\u001b[0;34m,\u001b[0m \u001b[0mposition\u001b[0m\u001b[0;34m[\u001b[0m\u001b[0;36m1\u001b[0m\u001b[0;34m]\u001b[0m\u001b[0;34m[\u001b[0m\u001b[0;34m:\u001b[0m\u001b[0;34m]\u001b[0m\u001b[0;34m,\u001b[0m \u001b[0mcolor\u001b[0m\u001b[0;34m=\u001b[0m\u001b[0;34m'blue'\u001b[0m\u001b[0;34m,\u001b[0m \u001b[0mlinestyle\u001b[0m\u001b[0;34m=\u001b[0m\u001b[0;34m'-'\u001b[0m\u001b[0;34m,\u001b[0m \u001b[0mlinewidth\u001b[0m\u001b[0;34m=\u001b[0m\u001b[0;36m3\u001b[0m\u001b[0;34m)\u001b[0m\u001b[0;34m\u001b[0m\u001b[0;34m\u001b[0m\u001b[0m\n\u001b[0m\u001b[1;32m     18\u001b[0m \u001b[0mdot\u001b[0m\u001b[0;34m,\u001b[0m \u001b[0;34m=\u001b[0m \u001b[0max\u001b[0m\u001b[0;34m.\u001b[0m\u001b[0mplot\u001b[0m\u001b[0;34m(\u001b[0m\u001b[0;34m[\u001b[0m\u001b[0;34m]\u001b[0m\u001b[0;34m,\u001b[0m \u001b[0;34m[\u001b[0m\u001b[0;34m]\u001b[0m\u001b[0;34m,\u001b[0m \u001b[0mcolor\u001b[0m\u001b[0;34m=\u001b[0m\u001b[0;34m'red'\u001b[0m\u001b[0;34m,\u001b[0m \u001b[0mmarker\u001b[0m\u001b[0;34m=\u001b[0m\u001b[0;34m'o'\u001b[0m\u001b[0;34m,\u001b[0m \u001b[0mmarkersize\u001b[0m\u001b[0;34m=\u001b[0m\u001b[0;36m10\u001b[0m\u001b[0;34m,\u001b[0m \u001b[0mmarkeredgecolor\u001b[0m\u001b[0;34m=\u001b[0m\u001b[0;34m'black'\u001b[0m\u001b[0;34m,\u001b[0m \u001b[0mlinestyle\u001b[0m\u001b[0;34m=\u001b[0m\u001b[0;34m''\u001b[0m\u001b[0;34m)\u001b[0m\u001b[0;34m\u001b[0m\u001b[0;34m\u001b[0m\u001b[0m\n\u001b[1;32m     19\u001b[0m \u001b[0max\u001b[0m\u001b[0;34m.\u001b[0m\u001b[0mset_xlabel\u001b[0m\u001b[0;34m(\u001b[0m\u001b[0;34m'x'\u001b[0m\u001b[0;34m,\u001b[0m \u001b[0mfontsize\u001b[0m\u001b[0;34m=\u001b[0m\u001b[0;36m14\u001b[0m\u001b[0;34m)\u001b[0m\u001b[0;34m\u001b[0m\u001b[0;34m\u001b[0m\u001b[0m\n",
      "\u001b[0;31mNameError\u001b[0m: name 'position' is not defined"
     ]
    },
    {
     "data": {
      "image/png": "[encoded data removed]",
      "text/plain": [
       "<Figure size 700x700 with 1 Axes>"
      ]
     },
     "metadata": {
      "needs_background": "light"
     },
     "output_type": "display_data"
    }
   ],
   "source": [
    "import numpy as np\n",
    "import matplotlib.pyplot as plt\n",
    "import matplotlib.animation as animation\n",
    "\n",
    "\"\"\"\n",
    " 1.參數設定\n",
    "\"\"\"\n",
    "\n",
    "#動畫格數\n",
    "N=365\n",
    "\n",
    "\"\"\"\n",
    " 2.繪圖\n",
    "\"\"\"\n",
    "fig = plt.figure(figsize=(7, 7), dpi=100)\n",
    "ax = fig.gca()\n",
    "line, = ax.plot(position[0][:], position[1][:], color='blue', linestyle='-', linewidth=3)\n",
    "dot, = ax.plot([], [], color='red', marker='o', markersize=10, markeredgecolor='black', linestyle='')\n",
    "ax.set_xlabel('x', fontsize=14)\n",
    "ax.set_ylabel('y', fontsize=14)\n",
    "\n",
    "def update(i):\n",
    "    dot.set_data(position[0][i], position[1][i])\n",
    "    return dot,\n",
    "\n",
    "def init():\n",
    "    dot.set_data(position[0][0], position[1][0])\n",
    "    return dot,\n",
    "\n",
    "ani = animation.FuncAnimation(fig=fig, func=update, frames=N, init_func=init, interval=365/N, blit=True, repeat=True)\n",
    "plt.show()\n",
    "#pillow是gif用的writer\n",
    "ani.save('MovingPointMatplot.gif', writer='pillow', fps=1/0.03)"
   ]
  },
  {
   "cell_type": "code",
   "execution_count": null,
   "metadata": {},
   "outputs": [],
   "source": []
  },
  {
   "cell_type": "code",
   "execution_count": null,
   "metadata": {},
   "outputs": [],
   "source": [
    "jd = np.array([2457061.5, 2457062.5, 2457063.5, 2457064.5])\n",
    "position = kernel[0,3].compute(jd)\n",
    "print(position)"
   ]
  },
  {
   "cell_type": "code",
   "execution_count": 40,
   "metadata": {},
   "outputs": [
    {
     "ename": "AttributeError",
     "evalue": "module 'pandas' has no attribute 'read'",
     "output_type": "error",
     "traceback": [
      "\u001b[0;31m---------------------------------------------------------------------------\u001b[0m",
      "\u001b[0;31mAttributeError\u001b[0m                            Traceback (most recent call last)",
      "\u001b[0;32m<ipython-input-40-9aa7f6bda84a>\u001b[0m in \u001b[0;36m<module>\u001b[0;34m\u001b[0m\n\u001b[0;32m----> 1\u001b[0;31m \u001b[0mdf\u001b[0m \u001b[0;34m=\u001b[0m \u001b[0mpd\u001b[0m\u001b[0;34m.\u001b[0m\u001b[0mread\u001b[0m\u001b[0;34m(\u001b[0m\u001b[0;34m'planet_1.dat'\u001b[0m\u001b[0;34m)\u001b[0m\u001b[0;34m\u001b[0m\u001b[0;34m\u001b[0m\u001b[0m\n\u001b[0m",
      "\u001b[0;32m~/miniconda3/lib/python3.7/site-packages/pandas/__init__.py\u001b[0m in \u001b[0;36m__getattr__\u001b[0;34m(name)\u001b[0m\n\u001b[1;32m    256\u001b[0m             \u001b[0;32mreturn\u001b[0m \u001b[0m_SparseArray\u001b[0m\u001b[0;34m\u001b[0m\u001b[0;34m\u001b[0m\u001b[0m\n\u001b[1;32m    257\u001b[0m \u001b[0;34m\u001b[0m\u001b[0m\n\u001b[0;32m--> 258\u001b[0;31m         \u001b[0;32mraise\u001b[0m \u001b[0mAttributeError\u001b[0m\u001b[0;34m(\u001b[0m\u001b[0;34mf\"module 'pandas' has no attribute '{name}'\"\u001b[0m\u001b[0;34m)\u001b[0m\u001b[0;34m\u001b[0m\u001b[0;34m\u001b[0m\u001b[0m\n\u001b[0m\u001b[1;32m    259\u001b[0m \u001b[0;34m\u001b[0m\u001b[0m\n\u001b[1;32m    260\u001b[0m \u001b[0;34m\u001b[0m\u001b[0m\n",
      "\u001b[0;31mAttributeError\u001b[0m: module 'pandas' has no attribute 'read'"
     ]
    }
   ],
   "source": [
    "df = pd.read('planet_1.dat')"
   ]
  },
  {
   "cell_type": "code",
   "execution_count": 41,
   "metadata": {},
   "outputs": [
    {
     "data": {
      "text/html": [
       "<div>\n",
       "<style scoped>\n",
       "    .dataframe tbody tr th:only-of-type {\n",
       "        vertical-align: middle;\n",
       "    }\n",
       "\n",
       "    .dataframe tbody tr th {\n",
       "        vertical-align: top;\n",
       "    }\n",
       "\n",
       "    .dataframe thead th {\n",
       "        text-align: right;\n",
       "    }\n",
       "</style>\n",
       "<table border=\"1\" class=\"dataframe\">\n",
       "  <thead>\n",
       "    <tr style=\"text-align: right;\">\n",
       "      <th></th>\n",
       "      <th>Time [JD]  Time [UTC]  Tag     Mass [kg]    posx [JPL]    posY [JPL]</th>\n",
       "    </tr>\n",
       "  </thead>\n",
       "  <tbody>\n",
       "    <tr>\n",
       "      <th>0</th>\n",
       "      <td>0     2443375.5  1977-08-20    0  3.300000e+24...</td>\n",
       "    </tr>\n",
       "    <tr>\n",
       "      <th>1</th>\n",
       "      <td>1     2443376.5  1977-08-21    0  3.300000e+24...</td>\n",
       "    </tr>\n",
       "    <tr>\n",
       "      <th>2</th>\n",
       "      <td>2     2443377.5  1977-08-22    0  3.300000e+24...</td>\n",
       "    </tr>\n",
       "    <tr>\n",
       "      <th>3</th>\n",
       "      <td>3     2443378.5  1977-08-23    0  3.300000e+24...</td>\n",
       "    </tr>\n",
       "    <tr>\n",
       "      <th>4</th>\n",
       "      <td>4     2443379.5  1977-08-24    0  3.300000e+24...</td>\n",
       "    </tr>\n",
       "    <tr>\n",
       "      <th>...</th>\n",
       "      <td>...</td>\n",
       "    </tr>\n",
       "    <tr>\n",
       "      <th>3647</th>\n",
       "      <td>3647  2447022.5  1987-08-15    0  3.300000e+24...</td>\n",
       "    </tr>\n",
       "    <tr>\n",
       "      <th>3648</th>\n",
       "      <td>3648  2447023.5  1987-08-16    0  3.300000e+24...</td>\n",
       "    </tr>\n",
       "    <tr>\n",
       "      <th>3649</th>\n",
       "      <td>3649  2447024.5  1987-08-17    0  3.300000e+24...</td>\n",
       "    </tr>\n",
       "    <tr>\n",
       "      <th>3650</th>\n",
       "      <td>3650  2447025.5  1987-08-18    0  3.300000e+24...</td>\n",
       "    </tr>\n",
       "    <tr>\n",
       "      <th>3651</th>\n",
       "      <td>3651  2447026.5  1987-08-19    0  3.300000e+24...</td>\n",
       "    </tr>\n",
       "  </tbody>\n",
       "</table>\n",
       "<p>3652 rows × 1 columns</p>\n",
       "</div>"
      ],
      "text/plain": [
       "           Time [JD]  Time [UTC]  Tag     Mass [kg]    posx [JPL]    posY [JPL]\n",
       "0     0     2443375.5  1977-08-20    0  3.300000e+24...                        \n",
       "1     1     2443376.5  1977-08-21    0  3.300000e+24...                        \n",
       "2     2     2443377.5  1977-08-22    0  3.300000e+24...                        \n",
       "3     3     2443378.5  1977-08-23    0  3.300000e+24...                        \n",
       "4     4     2443379.5  1977-08-24    0  3.300000e+24...                        \n",
       "...                                                 ...                        \n",
       "3647  3647  2447022.5  1987-08-15    0  3.300000e+24...                        \n",
       "3648  3648  2447023.5  1987-08-16    0  3.300000e+24...                        \n",
       "3649  3649  2447024.5  1987-08-17    0  3.300000e+24...                        \n",
       "3650  3650  2447025.5  1987-08-18    0  3.300000e+24...                        \n",
       "3651  3651  2447026.5  1987-08-19    0  3.300000e+24...                        \n",
       "\n",
       "[3652 rows x 1 columns]"
      ]
     },
     "execution_count": 41,
     "metadata": {},
     "output_type": "execute_result"
    }
   ],
   "source": [
    "df"
   ]
  },
  {
   "cell_type": "code",
   "execution_count": 490,
   "metadata": {},
   "outputs": [],
   "source": [
    "posx=np.asarray(df['posx [JPL]'])"
   ]
  },
  {
   "cell_type": "code",
   "execution_count": 491,
   "metadata": {},
   "outputs": [
    {
     "data": {
      "text/plain": [
       "array([ 19370950.,  22532750.,  25621880., ..., -31878440., -35833100.,\n",
       "       -39508790.])"
      ]
     },
     "execution_count": 491,
     "metadata": {},
     "output_type": "execute_result"
    }
   ],
   "source": [
    "posx"
   ]
  },
  {
   "cell_type": "markdown",
   "metadata": {},
   "source": [
    "# 座標(2)"
   ]
  },
  {
   "cell_type": "code",
   "execution_count": 396,
   "metadata": {},
   "outputs": [],
   "source": [
    "path = 'horizons_results.txt'\n",
    "with open(path, 'r') as f:\n",
    "    for line in f.readlines():\n",
    "        line"
   ]
  },
  {
   "cell_type": "code",
   "execution_count": 397,
   "metadata": {},
   "outputs": [
    {
     "data": {
      "text/plain": [
       "'**************************************************************************************************************************************************************************************\\n'"
      ]
     },
     "execution_count": 397,
     "metadata": {},
     "output_type": "execute_result"
    }
   ],
   "source": [
    "line"
   ]
  },
  {
   "cell_type": "code",
   "execution_count": null,
   "metadata": {},
   "outputs": [],
   "source": []
  },
  {
   "cell_type": "code",
   "execution_count": null,
   "metadata": {},
   "outputs": [],
   "source": []
  },
  {
   "cell_type": "code",
   "execution_count": null,
   "metadata": {},
   "outputs": [],
   "source": []
  },
  {
   "cell_type": "markdown",
   "metadata": {},
   "source": [
    "https://docs.astropy.org/en/stable/coordinates/solarsystem.html"
   ]
  },
  {
   "cell_type": "code",
   "execution_count": 99,
   "metadata": {},
   "outputs": [
    {
     "data": {
      "text/plain": [
       "<SkyCoord (GCRS: obstime=2014-09-22 23:22:00.000, obsgeoloc=(3949481.6923192, -550931.90668394, 4961151.73597576) m, obsgeovel=(40.15954083, 287.47876681, -0.04597885) m / s): (ra, dec, distance) in (deg, deg, AU)\n",
       "    (136.91116209, 17.02935409, 5.94386022)>"
      ]
     },
     "execution_count": 99,
     "metadata": {},
     "output_type": "execute_result"
    }
   ],
   "source": [
    "from astropy.coordinates import solar_system_ephemeris, EarthLocation\n",
    "from astropy.coordinates import get_body_barycentric, get_body, get_moon\n",
    "\n",
    "loc = EarthLocation.of_site('greenwich') \n",
    "with solar_system_ephemeris.set('builtin'):\n",
    "    jup = get_body('jupiter', t, loc) \n",
    "jup  "
   ]
  },
  {
   "cell_type": "code",
   "execution_count": null,
   "metadata": {},
   "outputs": [],
   "source": []
  },
  {
   "cell_type": "code",
   "execution_count": 60,
   "metadata": {},
   "outputs": [
    {
     "data": {
      "text/plain": [
       "<ScienceState solar_system_ephemeris: 'de432s'>"
      ]
     },
     "execution_count": 60,
     "metadata": {},
     "output_type": "execute_result"
    }
   ],
   "source": [
    "solar_system_ephemeris.set('de432s') "
   ]
  },
  {
   "cell_type": "code",
   "execution_count": 61,
   "metadata": {},
   "outputs": [
    {
     "data": {
      "text/plain": [
       "<SkyCoord (GCRS: obstime=2014-09-22 23:22:00.000, obsgeoloc=(3949481.6923049, -550931.9066788, 4961151.73597586) m, obsgeovel=(40.15954083, 287.47871186, -0.04597878) m / s): (ra, dec, distance) in (deg, deg, km)\n",
       "    (136.90234802, 17.03160667, 8.89196021e+08)>"
      ]
     },
     "execution_count": 61,
     "metadata": {},
     "output_type": "execute_result"
    }
   ],
   "source": [
    "get_body('jupiter', t, loc) "
   ]
  },
  {
   "cell_type": "code",
   "execution_count": 70,
   "metadata": {},
   "outputs": [
    {
     "data": {
      "text/plain": [
       "<SkyCoord (GCRS: obstime=2014-09-22 23:22:00.000, obsgeoloc=(3949481.6923192, -550931.90668394, 4961151.73597576) m, obsgeovel=(40.15954083, 287.47876681, -0.04597885) m / s): (ra, dec, distance) in (deg, deg, AU)\n",
       "    (172.05047643, -51.20602058, 4.25483071e-05)>"
      ]
     },
     "execution_count": 70,
     "metadata": {},
     "output_type": "execute_result"
    }
   ],
   "source": [
    "get_body('earth', t, loc) "
   ]
  },
  {
   "cell_type": "code",
   "execution_count": 63,
   "metadata": {},
   "outputs": [
    {
     "data": {
      "text/plain": [
       "<CartesianRepresentation (x, y, z) in km\n",
       "    (1.50107535e+08, -866789.11996806, -418963.55218447)>"
      ]
     },
     "execution_count": 63,
     "metadata": {},
     "output_type": "execute_result"
    }
   ],
   "source": [
    "get_body_barycentric('moon', t) "
   ]
  },
  {
   "cell_type": "code",
   "execution_count": 65,
   "metadata": {},
   "outputs": [
    {
     "data": {
      "text/plain": [
       "('sun',\n",
       " 'mercury',\n",
       " 'venus',\n",
       " 'earth-moon-barycenter',\n",
       " 'earth',\n",
       " 'moon',\n",
       " 'mars',\n",
       " 'jupiter',\n",
       " 'saturn',\n",
       " 'uranus',\n",
       " 'neptune',\n",
       " 'pluto')"
      ]
     },
     "execution_count": 65,
     "metadata": {},
     "output_type": "execute_result"
    }
   ],
   "source": [
    "solar_system_ephemeris.bodies "
   ]
  },
  {
   "cell_type": "code",
   "execution_count": 66,
   "metadata": {},
   "outputs": [
    {
     "data": {
      "text/plain": [
       "<ScienceState solar_system_ephemeris: 'builtin'>"
      ]
     },
     "execution_count": 66,
     "metadata": {},
     "output_type": "execute_result"
    }
   ],
   "source": [
    "solar_system_ephemeris.set('builtin')"
   ]
  },
  {
   "cell_type": "code",
   "execution_count": 67,
   "metadata": {},
   "outputs": [
    {
     "data": {
      "text/plain": [
       "('earth',\n",
       " 'sun',\n",
       " 'moon',\n",
       " 'mercury',\n",
       " 'venus',\n",
       " 'earth-moon-barycenter',\n",
       " 'mars',\n",
       " 'jupiter',\n",
       " 'saturn',\n",
       " 'uranus',\n",
       " 'neptune')"
      ]
     },
     "execution_count": 67,
     "metadata": {},
     "output_type": "execute_result"
    }
   ],
   "source": [
    "solar_system_ephemeris.bodies"
   ]
  },
  {
   "cell_type": "code",
   "execution_count": null,
   "metadata": {},
   "outputs": [],
   "source": []
  },
  {
   "cell_type": "code",
   "execution_count": null,
   "metadata": {},
   "outputs": [],
   "source": []
  }
 ],
 "metadata": {
  "kernelspec": {
   "display_name": "Python 3",
   "language": "python",
   "name": "python3"
  },
  "language_info": {
   "codemirror_mode": {
    "name": "ipython",
    "version": 3
   },
   "file_extension": ".py",
   "mimetype": "text/x-python",
   "name": "python",
   "nbconvert_exporter": "python",
   "pygments_lexer": "ipython3",
   "version": "3.7.6"
  }
 },
 "nbformat": 4,
 "nbformat_minor": 4
}
